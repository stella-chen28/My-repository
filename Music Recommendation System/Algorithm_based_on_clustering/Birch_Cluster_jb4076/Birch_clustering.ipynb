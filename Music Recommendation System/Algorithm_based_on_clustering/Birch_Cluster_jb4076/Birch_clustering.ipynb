{
 "cells": [
  {
   "cell_type": "code",
   "execution_count": 2,
   "metadata": {},
   "outputs": [],
   "source": [
    "from sklearn.cluster import Birch\n",
    "from sklearn.cluster import KMeans\n",
    "import numpy as np\n",
    "import pandas as pd"
   ]
  },
  {
   "cell_type": "code",
   "execution_count": 3,
   "metadata": {},
   "outputs": [
    {
     "name": "stdout",
     "output_type": "stream",
     "text": [
      "   bd  mean_song_len  genre_listen_num  genre_repeat_num  song_listen_num  \\\n",
      "0   0       4.341820                18                15              439   \n",
      "1   0       3.562002                13                 4               18   \n",
      "2   0       3.877811                26                 2               80   \n",
      "3   0       4.000626                29                19              228   \n",
      "4   0       3.784971                 3                 2               28   \n",
      "\n",
      "   song_repeat_num  \n",
      "0              364  \n",
      "1                9  \n",
      "2                4  \n",
      "3              114  \n",
      "4                6  \n",
      "[[  0.           4.34181959  18.          15.         439.\n",
      "  364.        ]\n",
      " [  0.           3.56200185  13.           4.          18.\n",
      "    9.        ]\n",
      " [  0.           3.87781083  26.           2.          80.\n",
      "    4.        ]]\n"
     ]
    }
   ],
   "source": [
    "feature = pd.read_csv('/home/jb4076/music/feature_data_numeric_1.csv')\n",
    "feature_value = feature.iloc[:,1:]\n",
    "print(feature_value.head())\n",
    "feature_array = feature_value.values\n",
    "print(feature_array[0:3])"
   ]
  },
  {
   "cell_type": "code",
   "execution_count": 3,
   "metadata": {},
   "outputs": [
    {
     "data": {
      "text/html": [
       "<div>\n",
       "<style scoped>\n",
       "    .dataframe tbody tr th:only-of-type {\n",
       "        vertical-align: middle;\n",
       "    }\n",
       "\n",
       "    .dataframe tbody tr th {\n",
       "        vertical-align: top;\n",
       "    }\n",
       "\n",
       "    .dataframe thead th {\n",
       "        text-align: right;\n",
       "    }\n",
       "</style>\n",
       "<table border=\"1\" class=\"dataframe\">\n",
       "  <thead>\n",
       "    <tr style=\"text-align: right;\">\n",
       "      <th></th>\n",
       "      <th>msno</th>\n",
       "      <th>bd</th>\n",
       "      <th>mean_song_len</th>\n",
       "      <th>genre_listen_num</th>\n",
       "      <th>genre_repeat_num</th>\n",
       "      <th>song_listen_num</th>\n",
       "      <th>song_repeat_num</th>\n",
       "    </tr>\n",
       "  </thead>\n",
       "  <tbody>\n",
       "    <tr>\n",
       "      <th>0</th>\n",
       "      <td>XQxgAYj3klVKjR3oxPPXYYFp4soD4TuBghkhMTD4oTw=</td>\n",
       "      <td>0</td>\n",
       "      <td>4.341820</td>\n",
       "      <td>18</td>\n",
       "      <td>15</td>\n",
       "      <td>439</td>\n",
       "      <td>364</td>\n",
       "    </tr>\n",
       "    <tr>\n",
       "      <th>1</th>\n",
       "      <td>D8nEhsIOBSoE6VthTaqDX8U6lqjJ7dLdr72mOyLya2A=</td>\n",
       "      <td>0</td>\n",
       "      <td>3.562002</td>\n",
       "      <td>13</td>\n",
       "      <td>4</td>\n",
       "      <td>18</td>\n",
       "      <td>9</td>\n",
       "    </tr>\n",
       "    <tr>\n",
       "      <th>2</th>\n",
       "      <td>pg6bT2XZkSP1TDBy4qn3HBPY/HffKQ/bg8WIISQYBSY=</td>\n",
       "      <td>0</td>\n",
       "      <td>3.877811</td>\n",
       "      <td>26</td>\n",
       "      <td>2</td>\n",
       "      <td>80</td>\n",
       "      <td>4</td>\n",
       "    </tr>\n",
       "    <tr>\n",
       "      <th>3</th>\n",
       "      <td>kfk1AdTNH2dNqF5LzIs4e0vwGPejw2jrnFjJlcYnEgk=</td>\n",
       "      <td>0</td>\n",
       "      <td>4.000626</td>\n",
       "      <td>29</td>\n",
       "      <td>19</td>\n",
       "      <td>228</td>\n",
       "      <td>114</td>\n",
       "    </tr>\n",
       "    <tr>\n",
       "      <th>4</th>\n",
       "      <td>tscijwx4dbEp0NXGl+iFtHJ8zrj+TkcMrduOQk9t+gE=</td>\n",
       "      <td>0</td>\n",
       "      <td>3.784971</td>\n",
       "      <td>3</td>\n",
       "      <td>2</td>\n",
       "      <td>28</td>\n",
       "      <td>6</td>\n",
       "    </tr>\n",
       "    <tr>\n",
       "      <th>5</th>\n",
       "      <td>GoFYKhcq8Q5Gjz1M5L0azHZOhcY+Za/T7fRqIGgBuYA=</td>\n",
       "      <td>28</td>\n",
       "      <td>4.261393</td>\n",
       "      <td>6</td>\n",
       "      <td>3</td>\n",
       "      <td>55</td>\n",
       "      <td>13</td>\n",
       "    </tr>\n",
       "    <tr>\n",
       "      <th>6</th>\n",
       "      <td>Hiw71XZQSoEe1I7pBhPWi3kIrP7Ss7pwExZgtqFmtYw=</td>\n",
       "      <td>0</td>\n",
       "      <td>3.875022</td>\n",
       "      <td>10</td>\n",
       "      <td>10</td>\n",
       "      <td>110</td>\n",
       "      <td>62</td>\n",
       "    </tr>\n",
       "    <tr>\n",
       "      <th>7</th>\n",
       "      <td>V6QgFYHgsfZ2G6hFz1z2u3RrLt5BoLsZKBr+h0ZnFsA=</td>\n",
       "      <td>0</td>\n",
       "      <td>4.197740</td>\n",
       "      <td>3</td>\n",
       "      <td>2</td>\n",
       "      <td>17</td>\n",
       "      <td>4</td>\n",
       "    </tr>\n",
       "    <tr>\n",
       "      <th>8</th>\n",
       "      <td>RoSfblbwJN/izEnFIVw8TgOpm8R/NEpUC84Oz/b32HQ=</td>\n",
       "      <td>33</td>\n",
       "      <td>5.860929</td>\n",
       "      <td>26</td>\n",
       "      <td>11</td>\n",
       "      <td>256</td>\n",
       "      <td>115</td>\n",
       "    </tr>\n",
       "    <tr>\n",
       "      <th>9</th>\n",
       "      <td>N+dxmo1qvkKAlzYtcxGzjrqcpVyX9J7AMlXFuYASKuY=</td>\n",
       "      <td>0</td>\n",
       "      <td>4.112964</td>\n",
       "      <td>20</td>\n",
       "      <td>14</td>\n",
       "      <td>143</td>\n",
       "      <td>73</td>\n",
       "    </tr>\n",
       "  </tbody>\n",
       "</table>\n",
       "</div>"
      ],
      "text/plain": [
       "                                           msno  bd  mean_song_len  \\\n",
       "0  XQxgAYj3klVKjR3oxPPXYYFp4soD4TuBghkhMTD4oTw=   0       4.341820   \n",
       "1  D8nEhsIOBSoE6VthTaqDX8U6lqjJ7dLdr72mOyLya2A=   0       3.562002   \n",
       "2  pg6bT2XZkSP1TDBy4qn3HBPY/HffKQ/bg8WIISQYBSY=   0       3.877811   \n",
       "3  kfk1AdTNH2dNqF5LzIs4e0vwGPejw2jrnFjJlcYnEgk=   0       4.000626   \n",
       "4  tscijwx4dbEp0NXGl+iFtHJ8zrj+TkcMrduOQk9t+gE=   0       3.784971   \n",
       "5  GoFYKhcq8Q5Gjz1M5L0azHZOhcY+Za/T7fRqIGgBuYA=  28       4.261393   \n",
       "6  Hiw71XZQSoEe1I7pBhPWi3kIrP7Ss7pwExZgtqFmtYw=   0       3.875022   \n",
       "7  V6QgFYHgsfZ2G6hFz1z2u3RrLt5BoLsZKBr+h0ZnFsA=   0       4.197740   \n",
       "8  RoSfblbwJN/izEnFIVw8TgOpm8R/NEpUC84Oz/b32HQ=  33       5.860929   \n",
       "9  N+dxmo1qvkKAlzYtcxGzjrqcpVyX9J7AMlXFuYASKuY=   0       4.112964   \n",
       "\n",
       "   genre_listen_num  genre_repeat_num  song_listen_num  song_repeat_num  \n",
       "0                18                15              439              364  \n",
       "1                13                 4               18                9  \n",
       "2                26                 2               80                4  \n",
       "3                29                19              228              114  \n",
       "4                 3                 2               28                6  \n",
       "5                 6                 3               55               13  \n",
       "6                10                10              110               62  \n",
       "7                 3                 2               17                4  \n",
       "8                26                11              256              115  \n",
       "9                20                14              143               73  "
      ]
     },
     "metadata": {},
     "output_type": "display_data"
    }
   ],
   "source": [
    "display(feature.head(10))"
   ]
  },
  {
   "cell_type": "code",
   "execution_count": 4,
   "metadata": {},
   "outputs": [
    {
     "name": "stdout",
     "output_type": "stream",
     "text": [
      "Birch(branching_factor=50, compute_labels=True, copy=True, n_clusters=10,\n",
      "   threshold=0.5)\n",
      "[0 6 6 7 6 6 5 6 7 5]\n"
     ]
    }
   ],
   "source": [
    "# Birch Algorithms\n",
    "\n",
    "brc = Birch(branching_factor=50, n_clusters=10, threshold=0.5,\n",
    "            compute_labels=True)\n",
    "print(brc.fit(feature_array)) \n",
    "label = brc.predict(feature_array)\n",
    "print(label[0:10])"
   ]
  },
  {
   "cell_type": "code",
   "execution_count": 7,
   "metadata": {},
   "outputs": [],
   "source": [
    "feature_birch = feature\n",
    "feature_birch['label'] = label\n",
    "feature_red = feature_birch.sample(frac=0.1, replace=False)"
   ]
  },
  {
   "cell_type": "code",
   "execution_count": 10,
   "metadata": {},
   "outputs": [
    {
     "name": "stdout",
     "output_type": "stream",
     "text": [
      "2660\n"
     ]
    },
    {
     "data": {
      "text/plain": [
       "label\n",
       "0    184\n",
       "1     57\n",
       "2    102\n",
       "3     26\n",
       "4    248\n",
       "5    656\n",
       "6    922\n",
       "7    452\n",
       "8     13\n",
       "Name: msno, dtype: int64"
      ]
     },
     "execution_count": 10,
     "metadata": {},
     "output_type": "execute_result"
    }
   ],
   "source": [
    "print(feature_red.shape[0])\n",
    "feature_red.groupby('label').msno.count()"
   ]
  },
  {
   "cell_type": "code",
   "execution_count": 11,
   "metadata": {},
   "outputs": [],
   "source": [
    "# feature_red.to_csv('./birch.csv')"
   ]
  },
  {
   "cell_type": "code",
   "execution_count": null,
   "metadata": {},
   "outputs": [],
   "source": []
  }
 ],
 "metadata": {
  "kernelspec": {
   "display_name": "Python 3",
   "language": "python",
   "name": "python3"
  },
  "language_info": {
   "codemirror_mode": {
    "name": "ipython",
    "version": 3
   },
   "file_extension": ".py",
   "mimetype": "text/x-python",
   "name": "python",
   "nbconvert_exporter": "python",
   "pygments_lexer": "ipython3",
   "version": "3.6.4"
  }
 },
 "nbformat": 4,
 "nbformat_minor": 2
}
