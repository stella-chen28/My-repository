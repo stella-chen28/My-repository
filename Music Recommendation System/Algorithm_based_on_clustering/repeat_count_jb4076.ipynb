{
 "cells": [
  {
   "cell_type": "code",
   "execution_count": 3,
   "metadata": {},
   "outputs": [],
   "source": [
    "import pandas as pd\n",
    "import numpy as np\n",
    "from operator import methodcaller"
   ]
  },
  {
   "cell_type": "code",
   "execution_count": 4,
   "metadata": {
    "scrolled": true
   },
   "outputs": [],
   "source": [
    "train = pd.read_csv('/home/jb4076/music/training.csv')\n",
    "test = pd.read_csv('/home/jb4076/music/testing.csv')\n",
    "members = pd.read_csv('/home/jb4076/music/members.csv')\n",
    "repeat = train[train.target == 1]"
   ]
  },
  {
   "cell_type": "code",
   "execution_count": 5,
   "metadata": {
    "scrolled": true
   },
   "outputs": [],
   "source": [
    "genre_l = pd.DataFrame(train.groupby('msno').genre_ids.unique())\n",
    "genre_r = pd.DataFrame(repeat.groupby('msno').genre_ids.unique())"
   ]
  },
  {
   "cell_type": "code",
   "execution_count": 6,
   "metadata": {
    "scrolled": true
   },
   "outputs": [
    {
     "data": {
      "text/html": [
       "<div>\n",
       "<style scoped>\n",
       "    .dataframe tbody tr th:only-of-type {\n",
       "        vertical-align: middle;\n",
       "    }\n",
       "\n",
       "    .dataframe tbody tr th {\n",
       "        vertical-align: top;\n",
       "    }\n",
       "\n",
       "    .dataframe thead th {\n",
       "        text-align: right;\n",
       "    }\n",
       "</style>\n",
       "<table border=\"1\" class=\"dataframe\">\n",
       "  <thead>\n",
       "    <tr style=\"text-align: right;\">\n",
       "      <th></th>\n",
       "      <th>unique_genre</th>\n",
       "    </tr>\n",
       "    <tr>\n",
       "      <th>msno</th>\n",
       "      <th></th>\n",
       "    </tr>\n",
       "  </thead>\n",
       "  <tbody>\n",
       "    <tr>\n",
       "      <th>++5wYjoMgQHoRuD3GbbvmphZbBBwymzv5Q4l8sywtuU=</th>\n",
       "      <td>[465, 474, 458, 2022, 1259, 359, 451, 465|1259...</td>\n",
       "    </tr>\n",
       "    <tr>\n",
       "      <th>++AH7m/EQ4iKe6wSlfO/xXAJx50p+fCeTyF90GoE9Pg=</th>\n",
       "      <td>[1616, 465, 458, 359, 921, 465|458, 1259, 1609...</td>\n",
       "    </tr>\n",
       "    <tr>\n",
       "      <th>++e+jsxuQ8UEnmW40od9Rq3rW7+wAum4wooXyZTKJpk=</th>\n",
       "      <td>[465, 458, 465|2022, 465|1259, 921, 921|465, 9...</td>\n",
       "    </tr>\n",
       "    <tr>\n",
       "      <th>++xWL5Pbi2CpG4uUugigQahauM0J/sBIRloTNPBybIU=</th>\n",
       "      <td>[458, 465]</td>\n",
       "    </tr>\n",
       "    <tr>\n",
       "      <th>+/SKX44s4ryWQzYzuV7ZKMXqIKQMN1cPz3M8CJ8CFKU=</th>\n",
       "      <td>[465, 437, 921, 1616|1609, 458, 359, 1259, 160...</td>\n",
       "    </tr>\n",
       "  </tbody>\n",
       "</table>\n",
       "</div>"
      ],
      "text/plain": [
       "                                                                                   unique_genre\n",
       "msno                                                                                           \n",
       "++5wYjoMgQHoRuD3GbbvmphZbBBwymzv5Q4l8sywtuU=  [465, 474, 458, 2022, 1259, 359, 451, 465|1259...\n",
       "++AH7m/EQ4iKe6wSlfO/xXAJx50p+fCeTyF90GoE9Pg=  [1616, 465, 458, 359, 921, 465|458, 1259, 1609...\n",
       "++e+jsxuQ8UEnmW40od9Rq3rW7+wAum4wooXyZTKJpk=  [465, 458, 465|2022, 465|1259, 921, 921|465, 9...\n",
       "++xWL5Pbi2CpG4uUugigQahauM0J/sBIRloTNPBybIU=                                         [458, 465]\n",
       "+/SKX44s4ryWQzYzuV7ZKMXqIKQMN1cPz3M8CJ8CFKU=  [465, 437, 921, 1616|1609, 458, 359, 1259, 160..."
      ]
     },
     "metadata": {},
     "output_type": "display_data"
    },
    {
     "data": {
      "text/html": [
       "<div>\n",
       "<style scoped>\n",
       "    .dataframe tbody tr th:only-of-type {\n",
       "        vertical-align: middle;\n",
       "    }\n",
       "\n",
       "    .dataframe tbody tr th {\n",
       "        vertical-align: top;\n",
       "    }\n",
       "\n",
       "    .dataframe thead th {\n",
       "        text-align: right;\n",
       "    }\n",
       "</style>\n",
       "<table border=\"1\" class=\"dataframe\">\n",
       "  <thead>\n",
       "    <tr style=\"text-align: right;\">\n",
       "      <th></th>\n",
       "      <th>unique_genre</th>\n",
       "    </tr>\n",
       "    <tr>\n",
       "      <th>msno</th>\n",
       "      <th></th>\n",
       "    </tr>\n",
       "  </thead>\n",
       "  <tbody>\n",
       "    <tr>\n",
       "      <th>++5wYjoMgQHoRuD3GbbvmphZbBBwymzv5Q4l8sywtuU=</th>\n",
       "      <td>[465, 359, 458, 465|1259, 1609, 1259, 139, 161...</td>\n",
       "    </tr>\n",
       "    <tr>\n",
       "      <th>++AH7m/EQ4iKe6wSlfO/xXAJx50p+fCeTyF90GoE9Pg=</th>\n",
       "      <td>[1616, 465, 458, 921, 1609, 465|458, 1180, 465...</td>\n",
       "    </tr>\n",
       "    <tr>\n",
       "      <th>++e+jsxuQ8UEnmW40od9Rq3rW7+wAum4wooXyZTKJpk=</th>\n",
       "      <td>[465, 458, 465|2022, 921, 921|465, 921|458, 829]</td>\n",
       "    </tr>\n",
       "    <tr>\n",
       "      <th>++xWL5Pbi2CpG4uUugigQahauM0J/sBIRloTNPBybIU=</th>\n",
       "      <td>[458]</td>\n",
       "    </tr>\n",
       "    <tr>\n",
       "      <th>+/SKX44s4ryWQzYzuV7ZKMXqIKQMN1cPz3M8CJ8CFKU=</th>\n",
       "      <td>[465, 1616|1609, 359, 458, 1259, 921, 1609, 92...</td>\n",
       "    </tr>\n",
       "  </tbody>\n",
       "</table>\n",
       "</div>"
      ],
      "text/plain": [
       "                                                                                   unique_genre\n",
       "msno                                                                                           \n",
       "++5wYjoMgQHoRuD3GbbvmphZbBBwymzv5Q4l8sywtuU=  [465, 359, 458, 465|1259, 1609, 1259, 139, 161...\n",
       "++AH7m/EQ4iKe6wSlfO/xXAJx50p+fCeTyF90GoE9Pg=  [1616, 465, 458, 921, 1609, 465|458, 1180, 465...\n",
       "++e+jsxuQ8UEnmW40od9Rq3rW7+wAum4wooXyZTKJpk=   [465, 458, 465|2022, 921, 921|465, 921|458, 829]\n",
       "++xWL5Pbi2CpG4uUugigQahauM0J/sBIRloTNPBybIU=                                              [458]\n",
       "+/SKX44s4ryWQzYzuV7ZKMXqIKQMN1cPz3M8CJ8CFKU=  [465, 1616|1609, 359, 458, 1259, 921, 1609, 92..."
      ]
     },
     "metadata": {},
     "output_type": "display_data"
    }
   ],
   "source": [
    "genre_l.columns = ['unique_genre']\n",
    "genre_r.columns = ['unique_genre']\n",
    "display(genre_l.head())\n",
    "display(genre_r.head())"
   ]
  },
  {
   "cell_type": "code",
   "execution_count": 7,
   "metadata": {},
   "outputs": [
    {
     "name": "stdout",
     "output_type": "stream",
     "text": [
      "[array(['465', '474', '458', '2022', '1259', '359', '451', '465|1259',\n",
      "       '1609', '1616|1609', '1616', '139', '921', '921|458', '1180'],\n",
      "      dtype=object)\n",
      " array(['1616', '465', '458', '359', '921', '465|458', '1259', '1609',\n",
      "       '1180', '465|430', '444', '465|1259', '1011', '1616|1609',\n",
      "       '921|465'], dtype=object)\n",
      " array(['465', '458', '465|2022', '465|1259', '921', '921|465', '921|458',\n",
      "       '829'], dtype=object)]\n",
      "[array(['465', '359', '458', '465|1259', '1609', '1259', '139',\n",
      "       '1616|1609', '474', '451', '921', '2022'], dtype=object)\n",
      " array(['1616', '465', '458', '921', '1609', '465|458', '1180', '465|430',\n",
      "       '444', '465|1259', '1011', '1616|1609', '359', '1259'],\n",
      "      dtype=object)\n",
      " array(['465', '458', '465|2022', '921', '921|465', '921|458', '829'],\n",
      "      dtype=object)]\n"
     ]
    }
   ],
   "source": [
    "genre_list_l = np.array(genre_l.unique_genre)\n",
    "genre_list_r = np.array(genre_r.unique_genre)\n",
    "print(genre_list_l[0:3])\n",
    "print(genre_list_r[0:3])"
   ]
  },
  {
   "cell_type": "code",
   "execution_count": 8,
   "metadata": {
    "scrolled": true
   },
   "outputs": [],
   "source": [
    "genre_listen_num = []\n",
    "genre_repeat_num = []\n",
    "\n",
    "for i in range(genre_l.shape[0]):\n",
    "    genre_record_l = []\n",
    "    for x in genre_list_l[i]:\n",
    "        genre_record_l.extend(x.split('|'))\n",
    "        a = len(genre_record_l)\n",
    "    genre_listen_num.append(a)\n",
    "    \n",
    "for i in range(genre_r.shape[0]):\n",
    "    genre_record_r = []\n",
    "    for y in genre_list_r[i]:\n",
    "        genre_record_r.extend(y.split('|'))\n",
    "        b = len(genre_record_r)\n",
    "    genre_repeat_num.append(b)"
   ]
  },
  {
   "cell_type": "code",
   "execution_count": 10,
   "metadata": {
    "scrolled": true
   },
   "outputs": [
    {
     "name": "stdout",
     "output_type": "stream",
     "text": [
      "[18, 20, 12, 2, 21, 4, 26, 1, 4, 3, 35, 26, 9, 12, 1, 39, 6, 7, 13, 44]\n",
      "[14, 18, 10, 1, 15, 23, 1, 1, 2, 15, 9, 6, 12, 1, 17, 4, 5, 9, 31, 13]\n"
     ]
    }
   ],
   "source": [
    "print(genre_listen_num[0:20])\n",
    "print(genre_repeat_num[0:20])"
   ]
  },
  {
   "cell_type": "code",
   "execution_count": 11,
   "metadata": {},
   "outputs": [],
   "source": [
    "genre_l['genre_listen_num'] = genre_listen_num\n",
    "genre_r['genre_repeat_num'] = genre_repeat_num"
   ]
  },
  {
   "cell_type": "code",
   "execution_count": 17,
   "metadata": {},
   "outputs": [
    {
     "data": {
      "text/html": [
       "<div>\n",
       "<style scoped>\n",
       "    .dataframe tbody tr th:only-of-type {\n",
       "        vertical-align: middle;\n",
       "    }\n",
       "\n",
       "    .dataframe tbody tr th {\n",
       "        vertical-align: top;\n",
       "    }\n",
       "\n",
       "    .dataframe thead th {\n",
       "        text-align: right;\n",
       "    }\n",
       "</style>\n",
       "<table border=\"1\" class=\"dataframe\">\n",
       "  <thead>\n",
       "    <tr style=\"text-align: right;\">\n",
       "      <th></th>\n",
       "      <th>unique_genre</th>\n",
       "      <th>genre_listen_num</th>\n",
       "      <th>msno</th>\n",
       "    </tr>\n",
       "    <tr>\n",
       "      <th>msno</th>\n",
       "      <th></th>\n",
       "      <th></th>\n",
       "      <th></th>\n",
       "    </tr>\n",
       "  </thead>\n",
       "  <tbody>\n",
       "    <tr>\n",
       "      <th>++5wYjoMgQHoRuD3GbbvmphZbBBwymzv5Q4l8sywtuU=</th>\n",
       "      <td>[465, 474, 458, 2022, 1259, 359, 451, 465|1259...</td>\n",
       "      <td>18</td>\n",
       "      <td>++5wYjoMgQHoRuD3GbbvmphZbBBwymzv5Q4l8sywtuU=</td>\n",
       "    </tr>\n",
       "    <tr>\n",
       "      <th>++AH7m/EQ4iKe6wSlfO/xXAJx50p+fCeTyF90GoE9Pg=</th>\n",
       "      <td>[1616, 465, 458, 359, 921, 465|458, 1259, 1609...</td>\n",
       "      <td>20</td>\n",
       "      <td>++AH7m/EQ4iKe6wSlfO/xXAJx50p+fCeTyF90GoE9Pg=</td>\n",
       "    </tr>\n",
       "    <tr>\n",
       "      <th>++e+jsxuQ8UEnmW40od9Rq3rW7+wAum4wooXyZTKJpk=</th>\n",
       "      <td>[465, 458, 465|2022, 465|1259, 921, 921|465, 9...</td>\n",
       "      <td>12</td>\n",
       "      <td>++e+jsxuQ8UEnmW40od9Rq3rW7+wAum4wooXyZTKJpk=</td>\n",
       "    </tr>\n",
       "    <tr>\n",
       "      <th>++xWL5Pbi2CpG4uUugigQahauM0J/sBIRloTNPBybIU=</th>\n",
       "      <td>[458, 465]</td>\n",
       "      <td>2</td>\n",
       "      <td>++xWL5Pbi2CpG4uUugigQahauM0J/sBIRloTNPBybIU=</td>\n",
       "    </tr>\n",
       "    <tr>\n",
       "      <th>+/SKX44s4ryWQzYzuV7ZKMXqIKQMN1cPz3M8CJ8CFKU=</th>\n",
       "      <td>[465, 437, 921, 1616|1609, 458, 359, 1259, 160...</td>\n",
       "      <td>21</td>\n",
       "      <td>+/SKX44s4ryWQzYzuV7ZKMXqIKQMN1cPz3M8CJ8CFKU=</td>\n",
       "    </tr>\n",
       "  </tbody>\n",
       "</table>\n",
       "</div>"
      ],
      "text/plain": [
       "                                                                                   unique_genre  \\\n",
       "msno                                                                                              \n",
       "++5wYjoMgQHoRuD3GbbvmphZbBBwymzv5Q4l8sywtuU=  [465, 474, 458, 2022, 1259, 359, 451, 465|1259...   \n",
       "++AH7m/EQ4iKe6wSlfO/xXAJx50p+fCeTyF90GoE9Pg=  [1616, 465, 458, 359, 921, 465|458, 1259, 1609...   \n",
       "++e+jsxuQ8UEnmW40od9Rq3rW7+wAum4wooXyZTKJpk=  [465, 458, 465|2022, 465|1259, 921, 921|465, 9...   \n",
       "++xWL5Pbi2CpG4uUugigQahauM0J/sBIRloTNPBybIU=                                         [458, 465]   \n",
       "+/SKX44s4ryWQzYzuV7ZKMXqIKQMN1cPz3M8CJ8CFKU=  [465, 437, 921, 1616|1609, 458, 359, 1259, 160...   \n",
       "\n",
       "                                              genre_listen_num  \\\n",
       "msno                                                             \n",
       "++5wYjoMgQHoRuD3GbbvmphZbBBwymzv5Q4l8sywtuU=                18   \n",
       "++AH7m/EQ4iKe6wSlfO/xXAJx50p+fCeTyF90GoE9Pg=                20   \n",
       "++e+jsxuQ8UEnmW40od9Rq3rW7+wAum4wooXyZTKJpk=                12   \n",
       "++xWL5Pbi2CpG4uUugigQahauM0J/sBIRloTNPBybIU=                 2   \n",
       "+/SKX44s4ryWQzYzuV7ZKMXqIKQMN1cPz3M8CJ8CFKU=                21   \n",
       "\n",
       "                                                                                      msno  \n",
       "msno                                                                                        \n",
       "++5wYjoMgQHoRuD3GbbvmphZbBBwymzv5Q4l8sywtuU=  ++5wYjoMgQHoRuD3GbbvmphZbBBwymzv5Q4l8sywtuU=  \n",
       "++AH7m/EQ4iKe6wSlfO/xXAJx50p+fCeTyF90GoE9Pg=  ++AH7m/EQ4iKe6wSlfO/xXAJx50p+fCeTyF90GoE9Pg=  \n",
       "++e+jsxuQ8UEnmW40od9Rq3rW7+wAum4wooXyZTKJpk=  ++e+jsxuQ8UEnmW40od9Rq3rW7+wAum4wooXyZTKJpk=  \n",
       "++xWL5Pbi2CpG4uUugigQahauM0J/sBIRloTNPBybIU=  ++xWL5Pbi2CpG4uUugigQahauM0J/sBIRloTNPBybIU=  \n",
       "+/SKX44s4ryWQzYzuV7ZKMXqIKQMN1cPz3M8CJ8CFKU=  +/SKX44s4ryWQzYzuV7ZKMXqIKQMN1cPz3M8CJ8CFKU=  "
      ]
     },
     "execution_count": 17,
     "metadata": {},
     "output_type": "execute_result"
    }
   ],
   "source": [
    "genre_l['msno'] = genre_l.index\n",
    "genre_l.head()"
   ]
  },
  {
   "cell_type": "code",
   "execution_count": 18,
   "metadata": {},
   "outputs": [
    {
     "data": {
      "text/html": [
       "<div>\n",
       "<style scoped>\n",
       "    .dataframe tbody tr th:only-of-type {\n",
       "        vertical-align: middle;\n",
       "    }\n",
       "\n",
       "    .dataframe tbody tr th {\n",
       "        vertical-align: top;\n",
       "    }\n",
       "\n",
       "    .dataframe thead th {\n",
       "        text-align: right;\n",
       "    }\n",
       "</style>\n",
       "<table border=\"1\" class=\"dataframe\">\n",
       "  <thead>\n",
       "    <tr style=\"text-align: right;\">\n",
       "      <th></th>\n",
       "      <th>unique_genre</th>\n",
       "      <th>genre_repeat_num</th>\n",
       "      <th>msno</th>\n",
       "    </tr>\n",
       "    <tr>\n",
       "      <th>msno</th>\n",
       "      <th></th>\n",
       "      <th></th>\n",
       "      <th></th>\n",
       "    </tr>\n",
       "  </thead>\n",
       "  <tbody>\n",
       "    <tr>\n",
       "      <th>++5wYjoMgQHoRuD3GbbvmphZbBBwymzv5Q4l8sywtuU=</th>\n",
       "      <td>[465, 359, 458, 465|1259, 1609, 1259, 139, 161...</td>\n",
       "      <td>14</td>\n",
       "      <td>++5wYjoMgQHoRuD3GbbvmphZbBBwymzv5Q4l8sywtuU=</td>\n",
       "    </tr>\n",
       "    <tr>\n",
       "      <th>++AH7m/EQ4iKe6wSlfO/xXAJx50p+fCeTyF90GoE9Pg=</th>\n",
       "      <td>[1616, 465, 458, 921, 1609, 465|458, 1180, 465...</td>\n",
       "      <td>18</td>\n",
       "      <td>++AH7m/EQ4iKe6wSlfO/xXAJx50p+fCeTyF90GoE9Pg=</td>\n",
       "    </tr>\n",
       "    <tr>\n",
       "      <th>++e+jsxuQ8UEnmW40od9Rq3rW7+wAum4wooXyZTKJpk=</th>\n",
       "      <td>[465, 458, 465|2022, 921, 921|465, 921|458, 829]</td>\n",
       "      <td>10</td>\n",
       "      <td>++e+jsxuQ8UEnmW40od9Rq3rW7+wAum4wooXyZTKJpk=</td>\n",
       "    </tr>\n",
       "    <tr>\n",
       "      <th>++xWL5Pbi2CpG4uUugigQahauM0J/sBIRloTNPBybIU=</th>\n",
       "      <td>[458]</td>\n",
       "      <td>1</td>\n",
       "      <td>++xWL5Pbi2CpG4uUugigQahauM0J/sBIRloTNPBybIU=</td>\n",
       "    </tr>\n",
       "    <tr>\n",
       "      <th>+/SKX44s4ryWQzYzuV7ZKMXqIKQMN1cPz3M8CJ8CFKU=</th>\n",
       "      <td>[465, 1616|1609, 359, 458, 1259, 921, 1609, 92...</td>\n",
       "      <td>15</td>\n",
       "      <td>+/SKX44s4ryWQzYzuV7ZKMXqIKQMN1cPz3M8CJ8CFKU=</td>\n",
       "    </tr>\n",
       "  </tbody>\n",
       "</table>\n",
       "</div>"
      ],
      "text/plain": [
       "                                                                                   unique_genre  \\\n",
       "msno                                                                                              \n",
       "++5wYjoMgQHoRuD3GbbvmphZbBBwymzv5Q4l8sywtuU=  [465, 359, 458, 465|1259, 1609, 1259, 139, 161...   \n",
       "++AH7m/EQ4iKe6wSlfO/xXAJx50p+fCeTyF90GoE9Pg=  [1616, 465, 458, 921, 1609, 465|458, 1180, 465...   \n",
       "++e+jsxuQ8UEnmW40od9Rq3rW7+wAum4wooXyZTKJpk=   [465, 458, 465|2022, 921, 921|465, 921|458, 829]   \n",
       "++xWL5Pbi2CpG4uUugigQahauM0J/sBIRloTNPBybIU=                                              [458]   \n",
       "+/SKX44s4ryWQzYzuV7ZKMXqIKQMN1cPz3M8CJ8CFKU=  [465, 1616|1609, 359, 458, 1259, 921, 1609, 92...   \n",
       "\n",
       "                                              genre_repeat_num  \\\n",
       "msno                                                             \n",
       "++5wYjoMgQHoRuD3GbbvmphZbBBwymzv5Q4l8sywtuU=                14   \n",
       "++AH7m/EQ4iKe6wSlfO/xXAJx50p+fCeTyF90GoE9Pg=                18   \n",
       "++e+jsxuQ8UEnmW40od9Rq3rW7+wAum4wooXyZTKJpk=                10   \n",
       "++xWL5Pbi2CpG4uUugigQahauM0J/sBIRloTNPBybIU=                 1   \n",
       "+/SKX44s4ryWQzYzuV7ZKMXqIKQMN1cPz3M8CJ8CFKU=                15   \n",
       "\n",
       "                                                                                      msno  \n",
       "msno                                                                                        \n",
       "++5wYjoMgQHoRuD3GbbvmphZbBBwymzv5Q4l8sywtuU=  ++5wYjoMgQHoRuD3GbbvmphZbBBwymzv5Q4l8sywtuU=  \n",
       "++AH7m/EQ4iKe6wSlfO/xXAJx50p+fCeTyF90GoE9Pg=  ++AH7m/EQ4iKe6wSlfO/xXAJx50p+fCeTyF90GoE9Pg=  \n",
       "++e+jsxuQ8UEnmW40od9Rq3rW7+wAum4wooXyZTKJpk=  ++e+jsxuQ8UEnmW40od9Rq3rW7+wAum4wooXyZTKJpk=  \n",
       "++xWL5Pbi2CpG4uUugigQahauM0J/sBIRloTNPBybIU=  ++xWL5Pbi2CpG4uUugigQahauM0J/sBIRloTNPBybIU=  \n",
       "+/SKX44s4ryWQzYzuV7ZKMXqIKQMN1cPz3M8CJ8CFKU=  +/SKX44s4ryWQzYzuV7ZKMXqIKQMN1cPz3M8CJ8CFKU=  "
      ]
     },
     "execution_count": 18,
     "metadata": {},
     "output_type": "execute_result"
    }
   ],
   "source": [
    "genre_r['msno'] = genre_r.index\n",
    "genre_r.head()"
   ]
  },
  {
   "cell_type": "code",
   "execution_count": 21,
   "metadata": {
    "scrolled": true
   },
   "outputs": [],
   "source": [
    "genre_count_df = genre_l.merge(genre_r[['msno','genre_repeat_num']], on = 'msno')\\\n",
    "                    .drop(['unique_genre'], axis = 1)"
   ]
  },
  {
   "cell_type": "code",
   "execution_count": 23,
   "metadata": {},
   "outputs": [
    {
     "data": {
      "text/html": [
       "<div>\n",
       "<style scoped>\n",
       "    .dataframe tbody tr th:only-of-type {\n",
       "        vertical-align: middle;\n",
       "    }\n",
       "\n",
       "    .dataframe tbody tr th {\n",
       "        vertical-align: top;\n",
       "    }\n",
       "\n",
       "    .dataframe thead th {\n",
       "        text-align: right;\n",
       "    }\n",
       "</style>\n",
       "<table border=\"1\" class=\"dataframe\">\n",
       "  <thead>\n",
       "    <tr style=\"text-align: right;\">\n",
       "      <th></th>\n",
       "      <th>msno</th>\n",
       "      <th>genre_listen_num</th>\n",
       "      <th>genre_repeat_num</th>\n",
       "    </tr>\n",
       "  </thead>\n",
       "  <tbody>\n",
       "    <tr>\n",
       "      <th>0</th>\n",
       "      <td>++5wYjoMgQHoRuD3GbbvmphZbBBwymzv5Q4l8sywtuU=</td>\n",
       "      <td>18</td>\n",
       "      <td>14</td>\n",
       "    </tr>\n",
       "    <tr>\n",
       "      <th>1</th>\n",
       "      <td>++AH7m/EQ4iKe6wSlfO/xXAJx50p+fCeTyF90GoE9Pg=</td>\n",
       "      <td>20</td>\n",
       "      <td>18</td>\n",
       "    </tr>\n",
       "    <tr>\n",
       "      <th>2</th>\n",
       "      <td>++e+jsxuQ8UEnmW40od9Rq3rW7+wAum4wooXyZTKJpk=</td>\n",
       "      <td>12</td>\n",
       "      <td>10</td>\n",
       "    </tr>\n",
       "    <tr>\n",
       "      <th>3</th>\n",
       "      <td>++xWL5Pbi2CpG4uUugigQahauM0J/sBIRloTNPBybIU=</td>\n",
       "      <td>2</td>\n",
       "      <td>1</td>\n",
       "    </tr>\n",
       "    <tr>\n",
       "      <th>4</th>\n",
       "      <td>+/SKX44s4ryWQzYzuV7ZKMXqIKQMN1cPz3M8CJ8CFKU=</td>\n",
       "      <td>21</td>\n",
       "      <td>15</td>\n",
       "    </tr>\n",
       "  </tbody>\n",
       "</table>\n",
       "</div>"
      ],
      "text/plain": [
       "                                           msno  genre_listen_num  \\\n",
       "0  ++5wYjoMgQHoRuD3GbbvmphZbBBwymzv5Q4l8sywtuU=                18   \n",
       "1  ++AH7m/EQ4iKe6wSlfO/xXAJx50p+fCeTyF90GoE9Pg=                20   \n",
       "2  ++e+jsxuQ8UEnmW40od9Rq3rW7+wAum4wooXyZTKJpk=                12   \n",
       "3  ++xWL5Pbi2CpG4uUugigQahauM0J/sBIRloTNPBybIU=                 2   \n",
       "4  +/SKX44s4ryWQzYzuV7ZKMXqIKQMN1cPz3M8CJ8CFKU=                21   \n",
       "\n",
       "   genre_repeat_num  \n",
       "0                14  \n",
       "1                18  \n",
       "2                10  \n",
       "3                 1  \n",
       "4                15  "
      ]
     },
     "execution_count": 23,
     "metadata": {},
     "output_type": "execute_result"
    }
   ],
   "source": [
    "genre_count_df = genre_count_df[['msno','genre_listen_num','genre_repeat_num']]\n",
    "genre_count_df.head()"
   ]
  },
  {
   "cell_type": "code",
   "execution_count": 24,
   "metadata": {},
   "outputs": [],
   "source": [
    "# genre_count_df.to_csv('./genre_count_feature.csv')"
   ]
  },
  {
   "cell_type": "code",
   "execution_count": 28,
   "metadata": {},
   "outputs": [
    {
     "data": {
      "text/html": [
       "<div>\n",
       "<style scoped>\n",
       "    .dataframe tbody tr th:only-of-type {\n",
       "        vertical-align: middle;\n",
       "    }\n",
       "\n",
       "    .dataframe tbody tr th {\n",
       "        vertical-align: top;\n",
       "    }\n",
       "\n",
       "    .dataframe thead th {\n",
       "        text-align: right;\n",
       "    }\n",
       "</style>\n",
       "<table border=\"1\" class=\"dataframe\">\n",
       "  <thead>\n",
       "    <tr style=\"text-align: right;\">\n",
       "      <th></th>\n",
       "      <th>unique_song</th>\n",
       "    </tr>\n",
       "    <tr>\n",
       "      <th>msno</th>\n",
       "      <th></th>\n",
       "    </tr>\n",
       "  </thead>\n",
       "  <tbody>\n",
       "    <tr>\n",
       "      <th>++5wYjoMgQHoRuD3GbbvmphZbBBwymzv5Q4l8sywtuU=</th>\n",
       "      <td>[XMO3FDONv4koQae5yFWAIsgDURrnTru/LnmV2Rgs6/g=,...</td>\n",
       "    </tr>\n",
       "    <tr>\n",
       "      <th>++AH7m/EQ4iKe6wSlfO/xXAJx50p+fCeTyF90GoE9Pg=</th>\n",
       "      <td>[i356q8t0P9emMJq8PsFkY6CGoi34mP3cgXuDpfEDyhY=,...</td>\n",
       "    </tr>\n",
       "    <tr>\n",
       "      <th>++e+jsxuQ8UEnmW40od9Rq3rW7+wAum4wooXyZTKJpk=</th>\n",
       "      <td>[Q65wUesNx5Toh+9Htmtf3Z4j7xBY93f9QPHsANJxr3Q=,...</td>\n",
       "    </tr>\n",
       "    <tr>\n",
       "      <th>++xWL5Pbi2CpG4uUugigQahauM0J/sBIRloTNPBybIU=</th>\n",
       "      <td>[H9SPhwq9W0h/3XECeWOjmDRiVN7V5bxTLFlOqWDcqrI=,...</td>\n",
       "    </tr>\n",
       "    <tr>\n",
       "      <th>+/SKX44s4ryWQzYzuV7ZKMXqIKQMN1cPz3M8CJ8CFKU=</th>\n",
       "      <td>[+h+uIXLQyXHuCdwAY5oT3T302vt0IdQJtux0APXhriw=,...</td>\n",
       "    </tr>\n",
       "  </tbody>\n",
       "</table>\n",
       "</div>"
      ],
      "text/plain": [
       "                                                                                    unique_song\n",
       "msno                                                                                           \n",
       "++5wYjoMgQHoRuD3GbbvmphZbBBwymzv5Q4l8sywtuU=  [XMO3FDONv4koQae5yFWAIsgDURrnTru/LnmV2Rgs6/g=,...\n",
       "++AH7m/EQ4iKe6wSlfO/xXAJx50p+fCeTyF90GoE9Pg=  [i356q8t0P9emMJq8PsFkY6CGoi34mP3cgXuDpfEDyhY=,...\n",
       "++e+jsxuQ8UEnmW40od9Rq3rW7+wAum4wooXyZTKJpk=  [Q65wUesNx5Toh+9Htmtf3Z4j7xBY93f9QPHsANJxr3Q=,...\n",
       "++xWL5Pbi2CpG4uUugigQahauM0J/sBIRloTNPBybIU=  [H9SPhwq9W0h/3XECeWOjmDRiVN7V5bxTLFlOqWDcqrI=,...\n",
       "+/SKX44s4ryWQzYzuV7ZKMXqIKQMN1cPz3M8CJ8CFKU=  [+h+uIXLQyXHuCdwAY5oT3T302vt0IdQJtux0APXhriw=,..."
      ]
     },
     "metadata": {},
     "output_type": "display_data"
    },
    {
     "data": {
      "text/html": [
       "<div>\n",
       "<style scoped>\n",
       "    .dataframe tbody tr th:only-of-type {\n",
       "        vertical-align: middle;\n",
       "    }\n",
       "\n",
       "    .dataframe tbody tr th {\n",
       "        vertical-align: top;\n",
       "    }\n",
       "\n",
       "    .dataframe thead th {\n",
       "        text-align: right;\n",
       "    }\n",
       "</style>\n",
       "<table border=\"1\" class=\"dataframe\">\n",
       "  <thead>\n",
       "    <tr style=\"text-align: right;\">\n",
       "      <th></th>\n",
       "      <th>unique_song</th>\n",
       "    </tr>\n",
       "    <tr>\n",
       "      <th>msno</th>\n",
       "      <th></th>\n",
       "    </tr>\n",
       "  </thead>\n",
       "  <tbody>\n",
       "    <tr>\n",
       "      <th>++5wYjoMgQHoRuD3GbbvmphZbBBwymzv5Q4l8sywtuU=</th>\n",
       "      <td>[G2tlzVuAJ6qoRwfDhvCsR6jMY7HW90oM61e7xDstJhI=,...</td>\n",
       "    </tr>\n",
       "    <tr>\n",
       "      <th>++AH7m/EQ4iKe6wSlfO/xXAJx50p+fCeTyF90GoE9Pg=</th>\n",
       "      <td>[i356q8t0P9emMJq8PsFkY6CGoi34mP3cgXuDpfEDyhY=,...</td>\n",
       "    </tr>\n",
       "    <tr>\n",
       "      <th>++e+jsxuQ8UEnmW40od9Rq3rW7+wAum4wooXyZTKJpk=</th>\n",
       "      <td>[Q65wUesNx5Toh+9Htmtf3Z4j7xBY93f9QPHsANJxr3Q=,...</td>\n",
       "    </tr>\n",
       "    <tr>\n",
       "      <th>++xWL5Pbi2CpG4uUugigQahauM0J/sBIRloTNPBybIU=</th>\n",
       "      <td>[ED0r/aTepU2vXuPolSKoLObTpKsA8P9y8TOLER1Ao8M=]</td>\n",
       "    </tr>\n",
       "    <tr>\n",
       "      <th>+/SKX44s4ryWQzYzuV7ZKMXqIKQMN1cPz3M8CJ8CFKU=</th>\n",
       "      <td>[+h+uIXLQyXHuCdwAY5oT3T302vt0IdQJtux0APXhriw=,...</td>\n",
       "    </tr>\n",
       "  </tbody>\n",
       "</table>\n",
       "</div>"
      ],
      "text/plain": [
       "                                                                                    unique_song\n",
       "msno                                                                                           \n",
       "++5wYjoMgQHoRuD3GbbvmphZbBBwymzv5Q4l8sywtuU=  [G2tlzVuAJ6qoRwfDhvCsR6jMY7HW90oM61e7xDstJhI=,...\n",
       "++AH7m/EQ4iKe6wSlfO/xXAJx50p+fCeTyF90GoE9Pg=  [i356q8t0P9emMJq8PsFkY6CGoi34mP3cgXuDpfEDyhY=,...\n",
       "++e+jsxuQ8UEnmW40od9Rq3rW7+wAum4wooXyZTKJpk=  [Q65wUesNx5Toh+9Htmtf3Z4j7xBY93f9QPHsANJxr3Q=,...\n",
       "++xWL5Pbi2CpG4uUugigQahauM0J/sBIRloTNPBybIU=     [ED0r/aTepU2vXuPolSKoLObTpKsA8P9y8TOLER1Ao8M=]\n",
       "+/SKX44s4ryWQzYzuV7ZKMXqIKQMN1cPz3M8CJ8CFKU=  [+h+uIXLQyXHuCdwAY5oT3T302vt0IdQJtux0APXhriw=,..."
      ]
     },
     "metadata": {},
     "output_type": "display_data"
    }
   ],
   "source": [
    "song_l = pd.DataFrame(train.groupby('msno').song_id.unique())\n",
    "song_r = pd.DataFrame(repeat.groupby('msno').song_id.unique())\n",
    "song_l.columns = ['unique_song']\n",
    "song_r.columns = ['unique_song']\n",
    "display(song_l.head())\n",
    "display(song_r.head())\n"
   ]
  },
  {
   "cell_type": "code",
   "execution_count": 38,
   "metadata": {},
   "outputs": [
    {
     "name": "stdout",
     "output_type": "stream",
     "text": [
      "[414, 151, 76, 8, 141, 3, 129, 3, 15, 63, 504, 319, 58, 177, 4, 307, 32, 55, 62, 252]\n",
      "[203, 94, 57, 1, 53, 64, 2, 1, 35, 227, 82, 16, 166, 1, 109, 10, 20, 53, 177, 84]\n"
     ]
    }
   ],
   "source": [
    "song_list_l = np.array(song_l.unique_song)\n",
    "song_list_r = np.array(song_r.unique_song)\n",
    "\n",
    "song_listen_num = []\n",
    "song_repeat_num = []\n",
    "\n",
    "for i in range(song_l.shape[0]):\n",
    "    song_record_l = []\n",
    "    song_listen_num.append(len(song_l.unique_song[i]))\n",
    "    \n",
    "for i in range(song_r.shape[0]):\n",
    "    song_record_r = []\n",
    "    song_repeat_num.append(len(song_r.unique_song[i]))\n",
    "\n",
    "print(song_listen_num[0:20])\n",
    "print(song_repeat_num[0:20])"
   ]
  },
  {
   "cell_type": "code",
   "execution_count": 39,
   "metadata": {},
   "outputs": [],
   "source": [
    "song_l['song_listen_num'] = song_listen_num\n",
    "song_r['song_repeat_num'] = song_repeat_num\n",
    "\n",
    "song_l['msno'] = song_l.index\n",
    "song_r['msno'] = song_r.index\n",
    "\n",
    "song_count_df = song_l.merge(song_r[['msno','song_repeat_num']], on = 'msno')\\\n",
    "                    .drop(['unique_song'], axis = 1)\n",
    "    \n",
    "song_count_df = song_count_df[['msno','song_listen_num','song_repeat_num']]"
   ]
  },
  {
   "cell_type": "code",
   "execution_count": 40,
   "metadata": {},
   "outputs": [],
   "source": [
    "# song_count_df.to_csv('./song_count_feature.csv')"
   ]
  },
  {
   "cell_type": "code",
   "execution_count": null,
   "metadata": {},
   "outputs": [],
   "source": []
  }
 ],
 "metadata": {
  "kernelspec": {
   "display_name": "Python 3",
   "language": "python",
   "name": "python3"
  },
  "language_info": {
   "codemirror_mode": {
    "name": "ipython",
    "version": 3
   },
   "file_extension": ".py",
   "mimetype": "text/x-python",
   "name": "python",
   "nbconvert_exporter": "python",
   "pygments_lexer": "ipython3",
   "version": "3.6.4"
  }
 },
 "nbformat": 4,
 "nbformat_minor": 2
}
