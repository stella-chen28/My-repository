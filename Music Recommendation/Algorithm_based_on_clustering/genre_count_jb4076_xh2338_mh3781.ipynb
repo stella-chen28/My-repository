{
 "cells": [
  {
   "cell_type": "code",
   "execution_count": 1,
   "metadata": {},
   "outputs": [],
   "source": [
    "from collections import Counter\n",
    "import pandas as pd\n",
    "from operator import methodcaller\n",
    "import math\n",
    "import matplotlib.pyplot as plt\n",
    "import seaborn as sns\n",
    "import numpy as np\n",
    "from sklearn.model_selection import train_test_split"
   ]
  },
  {
   "cell_type": "code",
   "execution_count": 2,
   "metadata": {},
   "outputs": [],
   "source": [
    "train = pd.read_csv('/Users/jbian/Desktop/CU/5291/project/training.csv')\n",
    "test = pd.read_csv('/Users/jbian/Desktop/CU/5291/project/testing.csv')\n",
    "members = pd.read_csv('/Users/jbian/Desktop/CU/5291/project/members.csv')\n",
    "songs = pd.read_csv('/Users/jbian/Desktop/CU/5291/project/songs.csv')"
   ]
  },
  {
   "cell_type": "code",
   "execution_count": 3,
   "metadata": {},
   "outputs": [
    {
     "name": "stdout",
     "output_type": "stream",
     "text": [
      "34403\n",
      "30386\n"
     ]
    }
   ],
   "source": [
    "print(members.shape[0])\n",
    "print(train.msno.nunique())"
   ]
  },
  {
   "cell_type": "code",
   "execution_count": 4,
   "metadata": {},
   "outputs": [
    {
     "name": "stdout",
     "output_type": "stream",
     "text": [
      "30386\n"
     ]
    }
   ],
   "source": [
    "members_update = members[(members.msno.isin(train.msno))]\n",
    "print(members_update.shape[0])"
   ]
  },
  {
   "cell_type": "code",
   "execution_count": 5,
   "metadata": {
    "scrolled": true
   },
   "outputs": [
    {
     "name": "stdout",
     "output_type": "stream",
     "text": [
      "                                           msno  \\\n",
      "0  qXWBbfsZ6923Dq7OvwMP2rtVE3phQqlEKcLp2I5wofw=   \n",
      "1  Qja9LnwXWgTjFG5G1iMm/1J5Be6jhD/LUikBU9e9bWg=   \n",
      "2  6fGAUf1BJeTefYr5PUdmJVQ80DWsKr/3JRIf2w9MGAk=   \n",
      "3  dY4MN8EfoumZIs/0+ugiv/qGkNWIWdnWLIrFpjFYNTw=   \n",
      "4  kktfViwY41gERgWGXWDnVPl/oNF5fLNigX11zfhVOl0=   \n",
      "\n",
      "                                        song_id source_system_tab  \\\n",
      "0  JTMsJNPcL2ambkp1Z/MeBEnFEzZEOKetdLPrJxHf7v8=          discover   \n",
      "1  zuyzUP11fbgoVp6IMfWK378GDToe59ZlK5gkf+7aKdg=        my library   \n",
      "2  TuknjyN6Uqqrm49GZYBfTY4I2fjJwr11nVb18xlgmEE=        my library   \n",
      "3  reXuGcEWDDCnL0K3Th//3DFG4S1ACSpJMzA+CFipo1g=        my library   \n",
      "4  wcw0/6Vl8mOPpS0WUysfaKaOv8eAXim4/LAQfyFhgZU=        my library   \n",
      "\n",
      "    source_screen_name     source_type  target        artist_name genre_ids  \\\n",
      "0  Local playlist more   local-library       0            BIGBANG       465   \n",
      "1           My library            song       0        家家 (JiaJia)       458   \n",
      "2  Local playlist more  local-playlist       1     周杰倫 (Jay Chou)       465   \n",
      "3  Local playlist more  local-playlist       1  周湯豪 (NICKTHEREAL)       458   \n",
      "4  Local playlist more  local-playlist       1               南拳媽媽       465   \n",
      "\n",
      "   language  song_length  bd  city  gender  registered_via  \\\n",
      "0      31.0       220212   0     1     NaN               4   \n",
      "1       3.0       249835  42     6    male               9   \n",
      "2       3.0       231444  23    13  female               9   \n",
      "3       3.0       219324   0     1     NaN               7   \n",
      "4       3.0       253074  22     9  female               3   \n",
      "\n",
      "   registration_init_time  expiration_date  \n",
      "0                20161231         20170103  \n",
      "1                20060324         20180103  \n",
      "2                20090815         20180818  \n",
      "3                20160620         20170919  \n",
      "4                20150818         20171217  \n"
     ]
    }
   ],
   "source": [
    "train_update = train\n",
    "print(train_update.head())"
   ]
  },
  {
   "cell_type": "code",
   "execution_count": 6,
   "metadata": {
    "scrolled": true
   },
   "outputs": [],
   "source": [
    "genre_str = list(map(methodcaller('split', '|'), map(str,train.genre_ids)))\n",
    "members_genre = {}\n",
    "msno = []\n",
    "for i in range(train.shape[0]):\n",
    "    if train.msno[i] not in msno:\n",
    "        msno.append(train.msno[i])\n",
    "        members_genre[train.msno[i]] = []\n",
    "    if train.target[i] == 0:\n",
    "        members_genre[train.msno[i]].extend(genre_str[i])\n",
    "    else:\n",
    "        members_genre[train.msno[i]].extend(genre_str[i])\n",
    "        members_genre[train.msno[i]].extend(genre_str[i])\n",
    "    #if i % 10000 == 0:\n",
    "    #    print(i)"
   ]
  },
  {
   "cell_type": "code",
   "execution_count": 7,
   "metadata": {},
   "outputs": [
    {
     "name": "stdout",
     "output_type": "stream",
     "text": [
      "[('qXWBbfsZ6923Dq7OvwMP2rtVE3phQqlEKcLp2I5wofw=', ['465', '444', '921', '921', '921', '465', '1609', '921', '1609', '444', '1259', '444', '1259', '947', '458', '458', '786', '921', '921', '465', '2022', '465', '465', '465', '958', '465', '465', '465', '458', '958', '958', '1609', '458', '458', '444', '1609', '1616', '1609', '458', '458', '947', '958', '958', '444', '1259', '444', '1259', '451', '458', '458', '458', '458', '1616', '1609', '1616', '1609']), ('Qja9LnwXWgTjFG5G1iMm/1J5Be6jhD/LUikBU9e9bWg=', ['458', '465', '465', '465', '786', '786', '465', '465', '786', '786', '786', '2122', '786', '2122', '2122', '947', '958', '2122', '947', '958', '2086', '374', '2122', '2122', '2122', '2122', '465', '465', '786', '786', '2122', '786', '2122', '465', '465', '465', '465', '2122', '947', '958', '2122', '947', '958', '786', '2122', '786', '2122', '465', '465', '786', '2122', '786', '2122', '2122', '2122', '2122', '2122', '465', '465', '786', '2122', '2122', '2122', '2122', '2122', '2122', '2122', '2122', '139', '125', '109', '139', '125', '109', '786', '2122', '786', '2122', '465', '465', '2122', '2122', '786', '2122', '786', '2122', '465', '465', '465', '465', '786', '786', '465', '465', '786', '2122', '786', '2122', '2122', '2122', '437', '437', '2122', '2122', '465', '465', '465', '465', '2122', '2122', '786', '786', '2122', '2122', '2122', '947', '958', '2122', '947', '958', '2122', '947', '958', '2122', '947', '958', '2122', '2122', '786', '2122', '786', '2122', '2122', '2122', '2122', '2122', '2122', '2122', '786', '786', '2122', '2122', '465', '465', '2122', '2122', '2122', '786', '2122', '786', '465', '465', '786', '2122', '786', '2122', '465', '465', '2122', '2122', '465', '465', '2122', '2122', '2122', '2122', '2122', '2122', '2122', '947', '958', '2122', '947', '958', '2122', '947', '958', '2122', '947', '958', '465', '465', '786', '786', '139', '125', '109', '139', '125', '109', '2122', '947', '958', '2122', '947', '958', '465', '465', '786', '465', '465', '2122', '2122', '786', '2122', '786', '2122', '2122', '947', '958', '2122', '947', '958', '2122', '2122', '139', '125', '109', '139', '125', '109', '465', '465', '465', '465', '2122', '947', '958', '2122', '947', '958', '2122', '947', '958', '2122', '947', '958', '465', '465']), ('6fGAUf1BJeTefYr5PUdmJVQ80DWsKr/3JRIf2w9MGAk=', ['465', '465', '458', '458', '458', '465', '444', '1259', '458', '458', '465', '458', '458', '458', '458', '458', '139', '139', '465', '465', '465', '465', '465', '458', '458', '458', '458', '465', '465', '465', '465', '444', '458', '465', '465', '465', '465', '1011', '465', '444', '691', '465', '465', '921', '465', '921', '458', '458', '465', '465', '465', '465', '458', '458', '465', '465', '458', '458', '465', '465', '465', '465', '465', '465', '465', '458', '458', '458', '458', '458', '359', '359', '465', '465', '458', '458', '465', '465', '465', '465', '465', '359', '359', '458', '458', '465', '465', '465', '444', '139', '125', '109', '465', '465', '465', '921', '458', '465', '458', '465', '458', '458', '465', '921', '921', '921', '921', '465', '444', '921', '465', '465', '465', '458', '444', '465', '465', '1616', '1609', '1616', '1609', '465', '465', '465', '444', '444', '465', '444', '458', '458', '465', '465', '465', '691', '465', '465', '465', '458', '458', '465', '465', '465', '921', '465', '465', '458', '458', '458', '465', '465', '444', '465', '465', '458', '458', '465', '458', '458', '465', '465', '465', '465', '458', '458', '1259', '1259', '458', '458', '465', '465', '465', '465', '1011', '465', '1011', '444', '444', '465', '465', '2022', '465', '2022', '465', '458', '458', '465', '1259', '465', '1259', '465', '2022', '465', '465', '458', '465', '921', '465', '921', '465', '444', '465', '921', '465', '465', '465', '458', '458', '465', '1609', '458', '444', '444', '465', '458', '458', '458', '465', '444', '1259', '465', '465', '1609', '1616', '1609', '1616', '1609', '458', '458', '465', '1609', '1609', '444', '465', '465', '465', '921', '465', '465', '465', '465', '465', '465', '465', '458', '458', '458', '444', '444', '465', '465', '465', '458', '465', '458', '2022', '465', '465', '444', '465', '465', '465', '458', '465', '458', '458', '444', '444', '465', '465', '465', '1609', '1609', '458', '465', '465', '458', '465', '921', '921', '444', '444', '465', '465', '465', '139', '125', '109', '465', '458', '465', '458', '465', '444', '465', '458', '1287', '465', '465', '465', '465', '465', '465', '465', '1180', '444', '465', '465', '458', '458', '465', '1616', '465', '458', '465', '458', '465', '691', '465', '444', '444', '444', '444', '458', '1609', '465', '465', '1609', '444', '444', '465', '465', '465', '465', '359', '359', '458', '458', '465', '444', '465', '465', '465', '458', '465', '465', '444', '921', '437', '465', '921', '458', '458', '465', '465', '458', '458', '458', '2022', '465', '465', '458', '465', '465', '458', '458', '1609', '465', '458', '458', '458', '691', '1609', '1609', '465', '921', '465', '465', '465', '465', '465', '1609', '1609', '465', '458', '458', '691', '444', '465', '458', '465', '465', '458', '465', '465', '465', '1259', '465', '458', '458', '458', '444', '465', '465', '465', '1259', '465', '465', '465', '465', '458', '465', '465', '465', '465', '465', '465', '691', '1609', '458', '458', '444', '921', '465', '139', '444', '465', '465', '1609', '465', '921', '458', '921', '458', '465', '465', '465', '465', '465', '465', '465', '458', '458', '1616', '1616', '458', '458', '465', '465', '465', '465', '465', '921', '921', '465', '139', '465', '465', '465', '465', '465', '465', '465', '1616', '1616', '465', '921', '458', '465', '465', '465', '465', '465', '458', '458', '458', '921', '1609', '465', '465', '458', '458', '465', '465', '458', '458', '465', '465', '465', '465', '458', '921', '921', '465', '465', '465', '444', '458', '465', '465', '465', '465', '465', '921', '465', '465', '465', '465', '444', '921', '465', '465', '465', '921', '465', '465', '465', '465', '465', '458', '465', '465', '465', '465', '921', '444', '458', '465', '465', '465', '465', '465', '465', '465', '465', '465', '465', '139', '139', '465', '465', '465', '444', '444', '444', '465', '465', '465', '458', '458', '444', '444', '458', '458', '465', '465', '465', '465', '921', '465', '444', '444', '921', '465', '465', '458', '465', '458', '444', '829', '465', '465', '465', '465', '465', '465', '465', '444', '444', '465', '465', '458', '458', '444', '829', '458', '1287', '458', '458', '458', '139', '139', '465', '465', '458', '458', '465', '444', '465', '465', '465', '465', '2022', '465', '465', '921', '921', '458', '458', '465', '465', '465', '465', '465', '465', '465', '465', '465', '465', '465', '444', '465', '465', '465', '465', '465', '465', '458', '465', '921', '458', '1259', '1259', '465', '465', '465', '465', '1609', '921', '921', '465', '465', '465', '465', '921', '921', '465', '465', '465', '437', '444', '465', '465', '465', '2022', '465', '465', '465', '921', '465', '465', '458', '458', '465', '465', '444', '458', '458', '444', '458', '444', '444', '465', '465', '458', '465', '465', '465', '465', '465', '465', '359', '359', '465', '465', '465', '465', '465', '921', '465', '465', '465', '465', '691', '465', '458', '465', '465', '444', '465', '465', '465', '458', '465', '465', '465', '921', '921', '465', '465', '465', '458', '458', '465', '465', '921', '465', '359', '465', '465', '465', '458', '465', '465', '465', '465', '458', '465', '465', '458', '458', '465', '458', '465', '1616', '1609', '458', '1287', '359', '139', '444', '444', '458', '458', '465', '921', '921', '458', '458', '465', '465', '465', '444', '444', '691', '465', '465', '465', '458', '458', '458', '458', '465', '2022', '465', '444', '444', '465', '458', '458', '444', '465', '465', '451', '458', '458', '465', '465', '465', '458', '465', '465', '451', '451', '465', '458', '921', '2022', '1616', '1609', '1616', '1609', '458', '444', '458', '921', '458', '921', '465', '465', '465', '465', '444', '465', '465', '458', '465', '458', '359', '465', '465', '465', '444', '444', '458', '458', '465', '465', '465', '465', '465', '458', '458', '1609', '458', '458', '465', '465', '465', '465', '352', '1995', '444', '444', '465', '465', '444', '458', '458', '921', '465', '465', '465', '458', '465', '465', '444', '465', '465', '458', '458', '458', '458', '465', '465', '921', '921', '1609', '1609', '458', '465', '465', '465', '444', '444', '465', '465', '458', '458', '458', '458', '465', '465', '458', '2022', '2022', '465', '465', '1609', '1609', '465', '465', '458', '458', '465', '444', '921', '921', '458', '458', '465', '465', '465', '458', '458', '458', '458', '458', '458', '921', '465', '465', '1609', '465', '465', '465', '465', '444', '444', '465', '465', '465', '465', '458', '458', '458', '444', '2022', '458', '458', '1616', '1609', '465', '465', '444', '2022', '444', '444', '465', '465', '465', '458', '458', '465', '458', '465', '921', '921', '458', '458', '465', '465', '458', '458', '465', '465', '465', '465', '921', '458', '458', '465', '465', '444', '465', '465', '444', '444', '465', '458', '465', '458', '458', '458', '444', '1609', '1609', '465', '465', '465', '458', '458', '458', '465', '465', '465', '465', '458', '465', '465', '458', '465', '465', '458', '458', '921', '921', '465', '444', '465', '465', '465', '465', '465', '465', '444', '444', '465', '465', '465', '465', '458', '465', '465', '465', '458', '458', '458', '465', '465', '444', '444', '465', '465', '465', '465', '465', '465', '465', '444', '1259', '444', '1259', '465', '465', '921', '1259', '1259', '359', '465', '465', '465', '444', '1609', '465', '458', '458', '465', '458', '465', '139', '921', '465', '465', '458', '458', '465', '465', '465', '458', '458', '465', '465', '458', '458', '458', '465', '458', '458', '1609', '465', '458', '465', '458', '458', '458', '139', '125', '109', '444', '465', '465', '465', '465', '465', '465', '458', '458', '458', '921', '465', '458', '458', '465', '458', '465', '444', '465', '465', '444', '1259', '444', '1259', '458', '465', '465', '465', '465', '465', '458', '921', '465', '359', '458', '458', '465', '921', '921', '444', '465', '359', '359', '465', '458', '444', '465', '465', '465', '465', '465', '465', '465', '465', '458', '444', '465', '465', '437'])]\n"
     ]
    }
   ],
   "source": [
    "print(list(members_genre.items())[0:3])"
   ]
  },
  {
   "cell_type": "code",
   "execution_count": 8,
   "metadata": {},
   "outputs": [
    {
     "name": "stdout",
     "output_type": "stream",
     "text": [
      "[12, 12, 21, 9, 16, 10, 18, 17, 13, 18, 25, 9, 5, 19, 22, 30, 4, 4, 12, 21, 26, 20, 13, 24, 4, 10, 18, 5, 9, 15, 18, 13, 20, 5, 26, 9, 24, 21, 24, 22, 47, 15, 14, 14, 6, 21, 18, 33, 19, 44]\n",
      "5.0\n"
     ]
    }
   ],
   "source": [
    "a_length = []\n",
    "for value in members_genre.values():\n",
    "    a_length.append(len(set(value)))\n",
    "print(a_length[0:50])\n",
    "print(np.quantile(a_length,0.3))"
   ]
  },
  {
   "cell_type": "code",
   "execution_count": 9,
   "metadata": {
    "scrolled": true
   },
   "outputs": [],
   "source": [
    "members_genre_update = {}\n",
    "for item in members_genre.keys():\n",
    "    a = Counter(members_genre[item])\n",
    "    genre_list = []\n",
    "    for genre, count in a.most_common(5):\n",
    "        genre_list.append(genre)\n",
    "        members_genre_update[item] = genre_list"
   ]
  },
  {
   "cell_type": "code",
   "execution_count": 10,
   "metadata": {
    "scrolled": true
   },
   "outputs": [
    {
     "name": "stdout",
     "output_type": "stream",
     "text": [
      "[('qXWBbfsZ6923Dq7OvwMP2rtVE3phQqlEKcLp2I5wofw=', ['458', '465', '1609', '444', '921']), ('Qja9LnwXWgTjFG5G1iMm/1J5Be6jhD/LUikBU9e9bWg=', ['2122', '465', '786', '947', '958']), ('6fGAUf1BJeTefYr5PUdmJVQ80DWsKr/3JRIf2w9MGAk=', ['465', '458', '444', '921', '1609']), ('dY4MN8EfoumZIs/0+ugiv/qGkNWIWdnWLIrFpjFYNTw=', ['465', '458', '444', '921', '1259']), ('kktfViwY41gERgWGXWDnVPl/oNF5fLNigX11zfhVOl0=', ['465', '458', '921', '444', '1259'])]\n"
     ]
    }
   ],
   "source": [
    "print(list(members_genre_update.items())[0:5])"
   ]
  },
  {
   "cell_type": "code",
   "execution_count": 11,
   "metadata": {
    "scrolled": true
   },
   "outputs": [],
   "source": [
    "genre_df = pd.DataFrame.from_dict(members_genre_update, orient='index')\n",
    "genre_df = genre_df.reset_index()\n",
    "genre_df.columns = ['msno','genre_1','genre_2','genre_3','genre_4','genre_5']"
   ]
  },
  {
   "cell_type": "code",
   "execution_count": 12,
   "metadata": {},
   "outputs": [
    {
     "data": {
      "text/html": [
       "<div>\n",
       "<style scoped>\n",
       "    .dataframe tbody tr th:only-of-type {\n",
       "        vertical-align: middle;\n",
       "    }\n",
       "\n",
       "    .dataframe tbody tr th {\n",
       "        vertical-align: top;\n",
       "    }\n",
       "\n",
       "    .dataframe thead th {\n",
       "        text-align: right;\n",
       "    }\n",
       "</style>\n",
       "<table border=\"1\" class=\"dataframe\">\n",
       "  <thead>\n",
       "    <tr style=\"text-align: right;\">\n",
       "      <th></th>\n",
       "      <th>msno</th>\n",
       "      <th>genre_1</th>\n",
       "      <th>genre_2</th>\n",
       "      <th>genre_3</th>\n",
       "      <th>genre_4</th>\n",
       "      <th>genre_5</th>\n",
       "    </tr>\n",
       "  </thead>\n",
       "  <tbody>\n",
       "    <tr>\n",
       "      <th>0</th>\n",
       "      <td>qXWBbfsZ6923Dq7OvwMP2rtVE3phQqlEKcLp2I5wofw=</td>\n",
       "      <td>458</td>\n",
       "      <td>465</td>\n",
       "      <td>1609</td>\n",
       "      <td>444</td>\n",
       "      <td>921</td>\n",
       "    </tr>\n",
       "    <tr>\n",
       "      <th>1</th>\n",
       "      <td>Qja9LnwXWgTjFG5G1iMm/1J5Be6jhD/LUikBU9e9bWg=</td>\n",
       "      <td>2122</td>\n",
       "      <td>465</td>\n",
       "      <td>786</td>\n",
       "      <td>947</td>\n",
       "      <td>958</td>\n",
       "    </tr>\n",
       "    <tr>\n",
       "      <th>2</th>\n",
       "      <td>6fGAUf1BJeTefYr5PUdmJVQ80DWsKr/3JRIf2w9MGAk=</td>\n",
       "      <td>465</td>\n",
       "      <td>458</td>\n",
       "      <td>444</td>\n",
       "      <td>921</td>\n",
       "      <td>1609</td>\n",
       "    </tr>\n",
       "    <tr>\n",
       "      <th>3</th>\n",
       "      <td>dY4MN8EfoumZIs/0+ugiv/qGkNWIWdnWLIrFpjFYNTw=</td>\n",
       "      <td>465</td>\n",
       "      <td>458</td>\n",
       "      <td>444</td>\n",
       "      <td>921</td>\n",
       "      <td>1259</td>\n",
       "    </tr>\n",
       "    <tr>\n",
       "      <th>4</th>\n",
       "      <td>kktfViwY41gERgWGXWDnVPl/oNF5fLNigX11zfhVOl0=</td>\n",
       "      <td>465</td>\n",
       "      <td>458</td>\n",
       "      <td>921</td>\n",
       "      <td>444</td>\n",
       "      <td>1259</td>\n",
       "    </tr>\n",
       "    <tr>\n",
       "      <th>5</th>\n",
       "      <td>ohvDGvnNcXCeSHaDYSI+h2btqlaPBRkPMXNbW1lXW+o=</td>\n",
       "      <td>465</td>\n",
       "      <td>458</td>\n",
       "      <td>921</td>\n",
       "      <td>2122</td>\n",
       "      <td>451</td>\n",
       "    </tr>\n",
       "    <tr>\n",
       "      <th>6</th>\n",
       "      <td>RP6IfimmUEXbNvu1F1TcIu916wmuR5PyZcsXIkyQ46M=</td>\n",
       "      <td>465</td>\n",
       "      <td>458</td>\n",
       "      <td>1609</td>\n",
       "      <td>921</td>\n",
       "      <td>2022</td>\n",
       "    </tr>\n",
       "    <tr>\n",
       "      <th>7</th>\n",
       "      <td>gHAMS03JVBE0JwBweZZpFfKPAbHidPhHf4txqQn/fk4=</td>\n",
       "      <td>1609</td>\n",
       "      <td>465</td>\n",
       "      <td>458</td>\n",
       "      <td>139</td>\n",
       "      <td>1616</td>\n",
       "    </tr>\n",
       "    <tr>\n",
       "      <th>8</th>\n",
       "      <td>9hin382e+lzX0dAtCEHCjk+s7iBAUYEgkueQ0CNgAdY=</td>\n",
       "      <td>465</td>\n",
       "      <td>458</td>\n",
       "      <td>921</td>\n",
       "      <td>444</td>\n",
       "      <td>1259</td>\n",
       "    </tr>\n",
       "    <tr>\n",
       "      <th>9</th>\n",
       "      <td>8PYyXwiV1nzf9ju2LsMvjE+9LKI6nICnqJ4tNbodmrc=</td>\n",
       "      <td>465</td>\n",
       "      <td>458</td>\n",
       "      <td>1259</td>\n",
       "      <td>921</td>\n",
       "      <td>1609</td>\n",
       "    </tr>\n",
       "  </tbody>\n",
       "</table>\n",
       "</div>"
      ],
      "text/plain": [
       "                                           msno genre_1 genre_2 genre_3  \\\n",
       "0  qXWBbfsZ6923Dq7OvwMP2rtVE3phQqlEKcLp2I5wofw=     458     465    1609   \n",
       "1  Qja9LnwXWgTjFG5G1iMm/1J5Be6jhD/LUikBU9e9bWg=    2122     465     786   \n",
       "2  6fGAUf1BJeTefYr5PUdmJVQ80DWsKr/3JRIf2w9MGAk=     465     458     444   \n",
       "3  dY4MN8EfoumZIs/0+ugiv/qGkNWIWdnWLIrFpjFYNTw=     465     458     444   \n",
       "4  kktfViwY41gERgWGXWDnVPl/oNF5fLNigX11zfhVOl0=     465     458     921   \n",
       "5  ohvDGvnNcXCeSHaDYSI+h2btqlaPBRkPMXNbW1lXW+o=     465     458     921   \n",
       "6  RP6IfimmUEXbNvu1F1TcIu916wmuR5PyZcsXIkyQ46M=     465     458    1609   \n",
       "7  gHAMS03JVBE0JwBweZZpFfKPAbHidPhHf4txqQn/fk4=    1609     465     458   \n",
       "8  9hin382e+lzX0dAtCEHCjk+s7iBAUYEgkueQ0CNgAdY=     465     458     921   \n",
       "9  8PYyXwiV1nzf9ju2LsMvjE+9LKI6nICnqJ4tNbodmrc=     465     458    1259   \n",
       "\n",
       "  genre_4 genre_5  \n",
       "0     444     921  \n",
       "1     947     958  \n",
       "2     921    1609  \n",
       "3     921    1259  \n",
       "4     444    1259  \n",
       "5    2122     451  \n",
       "6     921    2022  \n",
       "7     139    1616  \n",
       "8     444    1259  \n",
       "9     921    1609  "
      ]
     },
     "execution_count": 12,
     "metadata": {},
     "output_type": "execute_result"
    }
   ],
   "source": [
    "genre_df.head(10)"
   ]
  },
  {
   "cell_type": "code",
   "execution_count": 13,
   "metadata": {},
   "outputs": [],
   "source": [
    "members_feature_1 = members_update.merge(genre_df, on = 'msno')"
   ]
  },
  {
   "cell_type": "code",
   "execution_count": 14,
   "metadata": {},
   "outputs": [
    {
     "name": "stdout",
     "output_type": "stream",
     "text": [
      "                                           msno  city  bd  gender  \\\n",
      "0  XQxgAYj3klVKjR3oxPPXYYFp4soD4TuBghkhMTD4oTw=     1   0     NaN   \n",
      "1  UizsfmJb9mV54qE9hCYyU07Va97c0lCRLEQX3ae+ztM=     1   0     NaN   \n",
      "2  D8nEhsIOBSoE6VthTaqDX8U6lqjJ7dLdr72mOyLya2A=     1   0     NaN   \n",
      "3  mCuD+tZ1hERA/o5GPqk38e041J8ZsBaLcu7nGoIIvhI=     1   0     NaN   \n",
      "4  q4HRBfVSssAFS9iRfxWrohxuk9kCYMKjHOEagUMV6rQ=     1   0     NaN   \n",
      "5  zgPOEyUn5a/Fvuzb3m69ajzxjkbblVtObglW89FzLdo=    13  43  female   \n",
      "6  Sw9AT8QoR4wWiNUqHZUH6g5ahzGUx4lo1g+Y3xE2f2M=     1   0     NaN   \n",
      "7  pg6bT2XZkSP1TDBy4qn3HBPY/HffKQ/bg8WIISQYBSY=     1   0     NaN   \n",
      "8  kfk1AdTNH2dNqF5LzIs4e0vwGPejw2jrnFjJlcYnEgk=     1   0     NaN   \n",
      "9  tscijwx4dbEp0NXGl+iFtHJ8zrj+TkcMrduOQk9t+gE=     1   0     NaN   \n",
      "\n",
      "   registered_via  registration_init_time  expiration_date genre_1 genre_2  \\\n",
      "0               7                20110820         20170920     465     458   \n",
      "1               7                20150628         20170622     465     444   \n",
      "2               4                20160411         20170712    1609     465   \n",
      "3               9                20150906         20150907     444     921   \n",
      "4               4                20170126         20170613     458    None   \n",
      "5               9                20120703         20171006    1259     451   \n",
      "6               4                20160326         20160329     880    None   \n",
      "7               7                20160130         20170930     465    1609   \n",
      "8               7                20110111         20170930     465     458   \n",
      "9               7                20160217         20170613     465     444   \n",
      "\n",
      "  genre_3 genre_4 genre_5  \n",
      "0     921     451    1609  \n",
      "1     921    None    None  \n",
      "2    1616     139    1259  \n",
      "3     465    None    None  \n",
      "4    None    None    None  \n",
      "5    None    None    None  \n",
      "6    None    None    None  \n",
      "7     458     139     444  \n",
      "8     921     444     972  \n",
      "9     458    None    None  \n"
     ]
    }
   ],
   "source": [
    "print(members_feature_1.head(10))"
   ]
  },
  {
   "cell_type": "code",
   "execution_count": 15,
   "metadata": {},
   "outputs": [],
   "source": [
    "# members_feature_1.to_csv('./members_add_genre.csv', encoding='utf-8', index=False)"
   ]
  }
 ],
 "metadata": {
  "kernelspec": {
   "display_name": "Python 3",
   "language": "python",
   "name": "python3"
  },
  "language_info": {
   "codemirror_mode": {
    "name": "ipython",
    "version": 3
   },
   "file_extension": ".py",
   "mimetype": "text/x-python",
   "name": "python",
   "nbconvert_exporter": "python",
   "pygments_lexer": "ipython3",
   "version": "3.6.5"
  }
 },
 "nbformat": 4,
 "nbformat_minor": 2
}
