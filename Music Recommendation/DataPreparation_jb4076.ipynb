{
 "cells": [
  {
   "cell_type": "code",
   "execution_count": 14,
   "metadata": {},
   "outputs": [],
   "source": [
    "from collections import Counter\n",
    "import pandas as pd\n",
    "from operator import methodcaller\n",
    "import math\n",
    "import matplotlib.pyplot as plt\n",
    "import seaborn as sns\n",
    "import numpy as np\n",
    "from sklearn.model_selection import train_test_split"
   ]
  },
  {
   "cell_type": "code",
   "execution_count": 15,
   "metadata": {},
   "outputs": [],
   "source": [
    "data = pd.read_csv('/Users/jbian/Desktop/CU/5291/project/train.csv')\n",
    "members = pd.read_csv('/Users/jbian/Desktop/CU/5291/project/members.csv')\n",
    "extra = pd.read_csv('/Users/jbian/Desktop/CU/5291/project/song_extra_info.csv')\n",
    "songs = pd.read_csv('/Users/jbian/Desktop/CU/5291/project/songs.csv')"
   ]
  },
  {
   "cell_type": "code",
   "execution_count": 16,
   "metadata": {},
   "outputs": [],
   "source": [
    "data_mer = data.merge(songs[['song_id', 'artist_name', 'genre_ids','language','song_length']], \n",
    "                      on='song_id')\n",
    "data_merged = data_mer.merge(members[['msno','bd', 'city', 'gender','registered_via',\n",
    "                                      'registration_init_time','expiration_date']], \n",
    "                             on='msno')"
   ]
  },
  {
   "cell_type": "code",
   "execution_count": 20,
   "metadata": {},
   "outputs": [],
   "source": [
    "data_rmn = data_merged.dropna(subset=['genre_ids'])"
   ]
  },
  {
   "cell_type": "code",
   "execution_count": 21,
   "metadata": {},
   "outputs": [
    {
     "name": "stdout",
     "output_type": "stream",
     "text": [
      "7377304\n",
      "7258963\n"
     ]
    }
   ],
   "source": [
    "print(data_merged.shape[0])\n",
    "print(data_rmn.shape[0])"
   ]
  },
  {
   "cell_type": "code",
   "execution_count": 22,
   "metadata": {},
   "outputs": [],
   "source": [
    "train, test = train_test_split(data_rmn, test_size=0.3)"
   ]
  },
  {
   "cell_type": "code",
   "execution_count": 23,
   "metadata": {},
   "outputs": [
    {
     "data": {
      "text/html": [
       "<div>\n",
       "<style scoped>\n",
       "    .dataframe tbody tr th:only-of-type {\n",
       "        vertical-align: middle;\n",
       "    }\n",
       "\n",
       "    .dataframe tbody tr th {\n",
       "        vertical-align: top;\n",
       "    }\n",
       "\n",
       "    .dataframe thead th {\n",
       "        text-align: right;\n",
       "    }\n",
       "</style>\n",
       "<table border=\"1\" class=\"dataframe\">\n",
       "  <thead>\n",
       "    <tr style=\"text-align: right;\">\n",
       "      <th></th>\n",
       "      <th>msno</th>\n",
       "      <th>song_id</th>\n",
       "      <th>source_system_tab</th>\n",
       "      <th>source_screen_name</th>\n",
       "      <th>source_type</th>\n",
       "      <th>target</th>\n",
       "      <th>artist_name</th>\n",
       "      <th>genre_ids</th>\n",
       "      <th>language</th>\n",
       "      <th>song_length</th>\n",
       "      <th>bd</th>\n",
       "      <th>city</th>\n",
       "      <th>gender</th>\n",
       "      <th>registered_via</th>\n",
       "      <th>registration_init_time</th>\n",
       "      <th>expiration_date</th>\n",
       "    </tr>\n",
       "  </thead>\n",
       "  <tbody>\n",
       "    <tr>\n",
       "      <th>2124401</th>\n",
       "      <td>qXWBbfsZ6923Dq7OvwMP2rtVE3phQqlEKcLp2I5wofw=</td>\n",
       "      <td>JTMsJNPcL2ambkp1Z/MeBEnFEzZEOKetdLPrJxHf7v8=</td>\n",
       "      <td>discover</td>\n",
       "      <td>Local playlist more</td>\n",
       "      <td>local-library</td>\n",
       "      <td>0</td>\n",
       "      <td>BIGBANG</td>\n",
       "      <td>465</td>\n",
       "      <td>31.0</td>\n",
       "      <td>220212</td>\n",
       "      <td>0</td>\n",
       "      <td>1</td>\n",
       "      <td>NaN</td>\n",
       "      <td>4</td>\n",
       "      <td>20161231</td>\n",
       "      <td>20170103</td>\n",
       "    </tr>\n",
       "    <tr>\n",
       "      <th>7352879</th>\n",
       "      <td>Qja9LnwXWgTjFG5G1iMm/1J5Be6jhD/LUikBU9e9bWg=</td>\n",
       "      <td>zuyzUP11fbgoVp6IMfWK378GDToe59ZlK5gkf+7aKdg=</td>\n",
       "      <td>my library</td>\n",
       "      <td>My library</td>\n",
       "      <td>song</td>\n",
       "      <td>0</td>\n",
       "      <td>家家 (JiaJia)</td>\n",
       "      <td>458</td>\n",
       "      <td>3.0</td>\n",
       "      <td>249835</td>\n",
       "      <td>42</td>\n",
       "      <td>6</td>\n",
       "      <td>male</td>\n",
       "      <td>9</td>\n",
       "      <td>20060324</td>\n",
       "      <td>20180103</td>\n",
       "    </tr>\n",
       "    <tr>\n",
       "      <th>1912096</th>\n",
       "      <td>6fGAUf1BJeTefYr5PUdmJVQ80DWsKr/3JRIf2w9MGAk=</td>\n",
       "      <td>TuknjyN6Uqqrm49GZYBfTY4I2fjJwr11nVb18xlgmEE=</td>\n",
       "      <td>my library</td>\n",
       "      <td>Local playlist more</td>\n",
       "      <td>local-playlist</td>\n",
       "      <td>1</td>\n",
       "      <td>周杰倫 (Jay Chou)</td>\n",
       "      <td>465</td>\n",
       "      <td>3.0</td>\n",
       "      <td>231444</td>\n",
       "      <td>23</td>\n",
       "      <td>13</td>\n",
       "      <td>female</td>\n",
       "      <td>9</td>\n",
       "      <td>20090815</td>\n",
       "      <td>20180818</td>\n",
       "    </tr>\n",
       "    <tr>\n",
       "      <th>1432712</th>\n",
       "      <td>dY4MN8EfoumZIs/0+ugiv/qGkNWIWdnWLIrFpjFYNTw=</td>\n",
       "      <td>reXuGcEWDDCnL0K3Th//3DFG4S1ACSpJMzA+CFipo1g=</td>\n",
       "      <td>my library</td>\n",
       "      <td>Local playlist more</td>\n",
       "      <td>local-playlist</td>\n",
       "      <td>1</td>\n",
       "      <td>周湯豪 (NICKTHEREAL)</td>\n",
       "      <td>458</td>\n",
       "      <td>3.0</td>\n",
       "      <td>219324</td>\n",
       "      <td>0</td>\n",
       "      <td>1</td>\n",
       "      <td>NaN</td>\n",
       "      <td>7</td>\n",
       "      <td>20160620</td>\n",
       "      <td>20170919</td>\n",
       "    </tr>\n",
       "    <tr>\n",
       "      <th>1294563</th>\n",
       "      <td>kktfViwY41gERgWGXWDnVPl/oNF5fLNigX11zfhVOl0=</td>\n",
       "      <td>wcw0/6Vl8mOPpS0WUysfaKaOv8eAXim4/LAQfyFhgZU=</td>\n",
       "      <td>my library</td>\n",
       "      <td>Local playlist more</td>\n",
       "      <td>local-playlist</td>\n",
       "      <td>1</td>\n",
       "      <td>南拳媽媽</td>\n",
       "      <td>465</td>\n",
       "      <td>3.0</td>\n",
       "      <td>253074</td>\n",
       "      <td>22</td>\n",
       "      <td>9</td>\n",
       "      <td>female</td>\n",
       "      <td>3</td>\n",
       "      <td>20150818</td>\n",
       "      <td>20171217</td>\n",
       "    </tr>\n",
       "  </tbody>\n",
       "</table>\n",
       "</div>"
      ],
      "text/plain": [
       "                                                 msno  \\\n",
       "2124401  qXWBbfsZ6923Dq7OvwMP2rtVE3phQqlEKcLp2I5wofw=   \n",
       "7352879  Qja9LnwXWgTjFG5G1iMm/1J5Be6jhD/LUikBU9e9bWg=   \n",
       "1912096  6fGAUf1BJeTefYr5PUdmJVQ80DWsKr/3JRIf2w9MGAk=   \n",
       "1432712  dY4MN8EfoumZIs/0+ugiv/qGkNWIWdnWLIrFpjFYNTw=   \n",
       "1294563  kktfViwY41gERgWGXWDnVPl/oNF5fLNigX11zfhVOl0=   \n",
       "\n",
       "                                              song_id source_system_tab  \\\n",
       "2124401  JTMsJNPcL2ambkp1Z/MeBEnFEzZEOKetdLPrJxHf7v8=          discover   \n",
       "7352879  zuyzUP11fbgoVp6IMfWK378GDToe59ZlK5gkf+7aKdg=        my library   \n",
       "1912096  TuknjyN6Uqqrm49GZYBfTY4I2fjJwr11nVb18xlgmEE=        my library   \n",
       "1432712  reXuGcEWDDCnL0K3Th//3DFG4S1ACSpJMzA+CFipo1g=        my library   \n",
       "1294563  wcw0/6Vl8mOPpS0WUysfaKaOv8eAXim4/LAQfyFhgZU=        my library   \n",
       "\n",
       "          source_screen_name     source_type  target        artist_name  \\\n",
       "2124401  Local playlist more   local-library       0            BIGBANG   \n",
       "7352879           My library            song       0        家家 (JiaJia)   \n",
       "1912096  Local playlist more  local-playlist       1     周杰倫 (Jay Chou)   \n",
       "1432712  Local playlist more  local-playlist       1  周湯豪 (NICKTHEREAL)   \n",
       "1294563  Local playlist more  local-playlist       1               南拳媽媽   \n",
       "\n",
       "        genre_ids  language  song_length  bd  city  gender  registered_via  \\\n",
       "2124401       465      31.0       220212   0     1     NaN               4   \n",
       "7352879       458       3.0       249835  42     6    male               9   \n",
       "1912096       465       3.0       231444  23    13  female               9   \n",
       "1432712       458       3.0       219324   0     1     NaN               7   \n",
       "1294563       465       3.0       253074  22     9  female               3   \n",
       "\n",
       "         registration_init_time  expiration_date  \n",
       "2124401                20161231         20170103  \n",
       "7352879                20060324         20180103  \n",
       "1912096                20090815         20180818  \n",
       "1432712                20160620         20170919  \n",
       "1294563                20150818         20171217  "
      ]
     },
     "execution_count": 23,
     "metadata": {},
     "output_type": "execute_result"
    }
   ],
   "source": [
    "train.head()"
   ]
  },
  {
   "cell_type": "code",
   "execution_count": 24,
   "metadata": {},
   "outputs": [],
   "source": [
    "#train.to_csv('./training.csv', encoding='utf-8', index=False)\n",
    "#test.to_csv('./testing.csv', encoding='utf-8', index=False)"
   ]
  }
 ],
 "metadata": {
  "kernelspec": {
   "display_name": "Python 3",
   "language": "python",
   "name": "python3"
  },
  "language_info": {
   "codemirror_mode": {
    "name": "ipython",
    "version": 3
   },
   "file_extension": ".py",
   "mimetype": "text/x-python",
   "name": "python",
   "nbconvert_exporter": "python",
   "pygments_lexer": "ipython3",
   "version": "3.6.5"
  }
 },
 "nbformat": 4,
 "nbformat_minor": 2
}
