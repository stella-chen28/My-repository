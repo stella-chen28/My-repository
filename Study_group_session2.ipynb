{
 "cells": [
  {
   "cell_type": "markdown",
   "metadata": {},
   "source": [
    "## Lecture 2. Condition; Loop; Function; Recursion \n",
    "\n",
    "\n",
    "### The if statement\n"
   ]
  },
  {
   "cell_type": "code",
   "execution_count": 3,
   "metadata": {},
   "outputs": [
    {
     "data": {
      "text/plain": [
       "1"
      ]
     },
     "execution_count": 3,
     "metadata": {},
     "output_type": "execute_result"
    }
   ],
   "source": [
    "a=30\n",
    "b=1\n",
    "if a<10:\n",
    "    b=12\n",
    "b"
   ]
  },
  {
   "cell_type": "code",
   "execution_count": 4,
   "metadata": {},
   "outputs": [
    {
     "data": {
      "text/plain": [
       "3"
      ]
     },
     "execution_count": 4,
     "metadata": {},
     "output_type": "execute_result"
    }
   ],
   "source": [
    "a=20\n",
    "if a<10:\n",
    "    b=12\n",
    "else:\n",
    "    b=3\n",
    "b"
   ]
  },
  {
   "cell_type": "markdown",
   "metadata": {},
   "source": [
    "##### Exercise: \n",
    "Use two ways to assign letter grades to numerical grades,  ‘A’, ‘B’, ‘C’, ‘D’ or ‘F’, where the cutoffs for ‘A’, ‘B’, ‘C’, and ‘D’ are 90, 80, 70, and 60 respectively."
   ]
  },
  {
   "cell_type": "code",
   "execution_count": 8,
   "metadata": {},
   "outputs": [
    {
     "data": {
      "text/plain": [
       "'F'"
      ]
     },
     "execution_count": 8,
     "metadata": {},
     "output_type": "execute_result"
    }
   ],
   "source": [
    "score = 59\n",
    "if score >= 90:\n",
    "    letter = 'A'\n",
    "else:   \n",
    "    if score >= 80:\n",
    "        letter = 'B'\n",
    "    else:  \n",
    "        if score >= 70:\n",
    "            letter = 'C'\n",
    "        else:    \n",
    "            if score >= 60:\n",
    "                letter = 'D'\n",
    "            else:\n",
    "                letter = 'F'\n",
    "letter"
   ]
  },
  {
   "cell_type": "code",
   "execution_count": 9,
   "metadata": {},
   "outputs": [
    {
     "data": {
      "text/plain": [
       "'F'"
      ]
     },
     "execution_count": 9,
     "metadata": {},
     "output_type": "execute_result"
    }
   ],
   "source": [
    "score = 59\n",
    "if score >= 90:\n",
    "    letter = 'A'\n",
    "elif score >= 80:\n",
    "    letter = 'B'\n",
    "elif score >= 70:\n",
    "    letter = 'C'\n",
    "elif score >= 60:\n",
    "    letter = 'D'\n",
    "else:\n",
    "    letter = 'F'\n",
    "letter"
   ]
  },
  {
   "cell_type": "markdown",
   "metadata": {},
   "source": [
    "### The while loop"
   ]
  },
  {
   "cell_type": "code",
   "execution_count": 10,
   "metadata": {},
   "outputs": [
    {
     "name": "stdout",
     "output_type": "stream",
     "text": [
      "10\n",
      "9\n",
      "8\n",
      "7\n",
      "6\n",
      "5\n",
      "4\n",
      "3\n",
      "2\n",
      "1\n"
     ]
    }
   ],
   "source": [
    "a=10\n",
    "while a>0:\n",
    "    print(a)\n",
    "    a=a-1"
   ]
  },
  {
   "cell_type": "markdown",
   "metadata": {},
   "source": [
    "### The for loop"
   ]
  },
  {
   "cell_type": "code",
   "execution_count": 11,
   "metadata": {},
   "outputs": [
    {
     "name": "stdout",
     "output_type": "stream",
     "text": [
      "4\n",
      "6\n",
      "happy\n",
      "-45\n",
      "True\n"
     ]
    }
   ],
   "source": [
    "stuff = [4,6,'happy', -45, True]\n",
    "for element in stuff:\n",
    "    print(element)"
   ]
  },
  {
   "cell_type": "code",
   "execution_count": 12,
   "metadata": {},
   "outputs": [
    {
     "name": "stdout",
     "output_type": "stream",
     "text": [
      "s\n",
      "t\n",
      "u\n",
      "f\n",
      "f\n"
     ]
    }
   ],
   "source": [
    "stuff = 'stuff'\n",
    "for element in stuff:\n",
    "    print(element)"
   ]
  },
  {
   "cell_type": "markdown",
   "metadata": {},
   "source": [
    "##### Exercise: \n",
    "Calculate Fibonacci numbers in two ways."
   ]
  },
  {
   "cell_type": "code",
   "execution_count": 19,
   "metadata": {
    "scrolled": true
   },
   "outputs": [
    {
     "name": "stdout",
     "output_type": "stream",
     "text": [
      "1\n",
      "2\n",
      "3\n",
      "5\n",
      "8\n",
      "13\n"
     ]
    }
   ],
   "source": [
    "a,b = 1,1\n",
    "for i in range(6):\n",
    "    a,b = b,a+b\n",
    "    print(a)"
   ]
  },
  {
   "cell_type": "code",
   "execution_count": 18,
   "metadata": {},
   "outputs": [
    {
     "name": "stdout",
     "output_type": "stream",
     "text": [
      "1\n",
      "2\n",
      "3\n",
      "5\n",
      "8\n",
      "13\n"
     ]
    }
   ],
   "source": [
    "a,b = 1,1\n",
    "i = 1\n",
    "while i <= 6:\n",
    "    a,b = b,a+b\n",
    "    i = i+1\n",
    "    print(a)"
   ]
  },
  {
   "cell_type": "markdown",
   "metadata": {},
   "source": [
    "### Example\n",
    "\n",
    "Number guessing game."
   ]
  },
  {
   "cell_type": "code",
   "execution_count": 1,
   "metadata": {},
   "outputs": [
    {
     "name": "stdout",
     "output_type": "stream",
     "text": [
      "welcome to guessing game death match\n",
      "I am picking a number between 1 and 5\n",
      "what did I pick?6\n",
      "you guessed too high, sucker\n",
      "what did I pick?4\n",
      "awesome dude\n",
      "wanna play again? (y/n)y\n",
      "I am picking a number between 1 and 5\n",
      "what did I pick?1\n",
      "you guessed too low, freak\n",
      "what did I pick?2\n",
      "you guessed too low, freak\n",
      "what did I pick?3\n",
      "you guessed too low, freak\n",
      "what did I pick?4\n",
      "you guessed too low, freak\n",
      "what did I pick?5\n",
      "awesome dude\n",
      "wanna play again? (y/n)N\n",
      "thanks for playing, you're my hero\n"
     ]
    }
   ],
   "source": [
    "# ***************************************\n",
    "# Hi I'm a happy comment\n",
    "# In this program the computer guesses\n",
    "# a number between 1 and 5\n",
    "# ***************************************\n",
    "\n",
    "import random\n",
    "\n",
    "\n",
    "print(\"welcome to guessing game death match\")\n",
    "again = 'y'\n",
    "while again =='y':\n",
    "    print(\"I am picking a number between 1 and 5\")\n",
    "\n",
    "    number = int(random.random()*5+1)\n",
    "    guess=-1\n",
    "    \n",
    "    while not(guess == number):\n",
    "        guess = int(input(\"what did I pick?\"))\n",
    "        if guess == number:\n",
    "            print(\"awesome dude\")\n",
    "        if guess > number:\n",
    "            print(\"you guessed too high, sucker\")\n",
    "        if guess < number:\n",
    "            print(\"you guessed too low, freak\")\n",
    "\n",
    "    again = input(\"wanna play again? (y/n)\")\n",
    "\n",
    "print(\"thanks for playing, you're my hero\")"
   ]
  },
  {
   "cell_type": "markdown",
   "metadata": {
    "collapsed": true
   },
   "source": [
    "### Functions"
   ]
  },
  {
   "cell_type": "code",
   "execution_count": 1,
   "metadata": {
    "collapsed": true
   },
   "outputs": [],
   "source": [
    "def myfunction1(argument1, argument2):\n",
    "    print(argument1 / argument2) "
   ]
  },
  {
   "cell_type": "code",
   "execution_count": 4,
   "metadata": {},
   "outputs": [
    {
     "name": "stdout",
     "output_type": "stream",
     "text": [
      "0.5\n"
     ]
    }
   ],
   "source": [
    "v1 = myfunction1(1, 2) # call the functiont to print v1"
   ]
  },
  {
   "cell_type": "code",
   "execution_count": 6,
   "metadata": {},
   "outputs": [
    {
     "name": "stdout",
     "output_type": "stream",
     "text": [
      "None\n"
     ]
    }
   ],
   "source": [
    "print(v1) # no value were assigned to v1"
   ]
  },
  {
   "cell_type": "code",
   "execution_count": 7,
   "metadata": {
    "collapsed": true
   },
   "outputs": [],
   "source": [
    "def myfunction2(arg1, arg2=1):  # keyword arguments\n",
    "    return arg1 / arg2"
   ]
  },
  {
   "cell_type": "code",
   "execution_count": 9,
   "metadata": {},
   "outputs": [],
   "source": [
    "v2 = myfunction2(1, 2) "
   ]
  },
  {
   "cell_type": "code",
   "execution_count": 10,
   "metadata": {},
   "outputs": [
    {
     "name": "stdout",
     "output_type": "stream",
     "text": [
      "0.5\n"
     ]
    }
   ],
   "source": [
    "print(v2)"
   ]
  },
  {
   "cell_type": "code",
   "execution_count": 13,
   "metadata": {},
   "outputs": [
    {
     "data": {
      "text/plain": [
       "5.0"
      ]
     },
     "execution_count": 13,
     "metadata": {},
     "output_type": "execute_result"
    }
   ],
   "source": [
    "myfunction2(5) "
   ]
  },
  {
   "cell_type": "code",
   "execution_count": 17,
   "metadata": {},
   "outputs": [
    {
     "name": "stdout",
     "output_type": "stream",
     "text": [
      "10.0\n"
     ]
    }
   ],
   "source": [
    "myfunction1(argument2=10, argument1=100)"
   ]
  },
  {
   "cell_type": "markdown",
   "metadata": {},
   "source": [
    "Now create a more complicated function"
   ]
  },
  {
   "cell_type": "code",
   "execution_count": 16,
   "metadata": {},
   "outputs": [
    {
     "data": {
      "text/plain": [
       "[['python', 'r', 'java', 'SQL'], ['r', 'SAS', 'python']]"
      ]
     },
     "execution_count": 16,
     "metadata": {},
     "output_type": "execute_result"
    }
   ],
   "source": [
    "def get_python_lists(master_list):\n",
    "    return_list = []\n",
    "    for list_ in master_list:\n",
    "        if 'python' in list_:\n",
    "            return_list.append(list_)\n",
    "    return return_list\n",
    "\n",
    "name_lists = [\n",
    "    ['python', 'r', 'java', 'SQL'],\n",
    "    ['SAS', 'C++', 'java'],\n",
    "    ['r', 'SAS', 'python'],\n",
    "]\n",
    "\n",
    "get_python_lists(name_lists)"
   ]
  },
  {
   "cell_type": "markdown",
   "metadata": {},
   "source": [
    "You can use a function in other functions"
   ]
  },
  {
   "cell_type": "code",
   "execution_count": 26,
   "metadata": {},
   "outputs": [
    {
     "name": "stdout",
     "output_type": "stream",
     "text": [
      "Divisible of 1 :  (1,)\n",
      "Divisible of 2 :  (1, 2)\n",
      "Divisible of 3 :  (1, 3)\n",
      "Divisible of 4 :  (1, 2, 4)\n",
      "Divisible of 5 :  (1, 5)\n",
      "Divisible of 6 :  (1, 2, 3, 6)\n",
      "Divisible of 7 :  (1, 7)\n",
      "Divisible of 8 :  (1, 2, 4, 8)\n",
      "Divisible of 9 :  (1, 3, 9)\n",
      "Divisible of 10 :  (1, 2, 5, 10)\n",
      "Divisible of 11 :  (1, 11)\n",
      "Divisible of 12 :  (1, 2, 3, 4, 6, 12)\n",
      "Divisible of 13 :  (1, 13)\n",
      "Divisible of 14 :  (1, 2, 7, 14)\n",
      "Divisible of 15 :  (1, 3, 5, 15)\n"
     ]
    }
   ],
   "source": [
    "def generate_divisible(x):\n",
    "    return tuple(y for y in range(x+1) \n",
    "                 if (y) and (x % y == 0))\n",
    "        \n",
    "\n",
    "def main(runs):\n",
    "    for x in range(1, runs + 1):\n",
    "        tup = generate_divisible(x)\n",
    "        print('Divisible of', x, ': ', tup)\n",
    "\n",
    "main(15)"
   ]
  },
  {
   "cell_type": "markdown",
   "metadata": {},
   "source": [
    "### Recursion"
   ]
  },
  {
   "cell_type": "code",
   "execution_count": 23,
   "metadata": {},
   "outputs": [
    {
     "name": "stdout",
     "output_type": "stream",
     "text": [
      "x is 2 - Going deeper\n",
      "x is 1 - Going deeper\n",
      "x is 0 - Turning around\n",
      "x was 1 - Coming back up\n",
      "x was 2 - Coming back up\n"
     ]
    }
   ],
   "source": [
    "def myfunc(x):\n",
    "    if x > 0:\n",
    "        print('x is', x, '- Going deeper')\n",
    "        myfunc(x - 1)\n",
    "        print('x was', x, '- Coming back up')\n",
    "    else:\n",
    "        print('x is', x, '- Turning around')\n",
    "\n",
    "myfunc(2)"
   ]
  },
  {
   "cell_type": "code",
   "execution_count": null,
   "metadata": {
    "collapsed": true
   },
   "outputs": [],
   "source": []
  }
 ],
 "metadata": {
  "kernelspec": {
   "display_name": "Python 3",
   "language": "python",
   "name": "python3"
  },
  "language_info": {
   "codemirror_mode": {
    "name": "ipython",
    "version": 3
   },
   "file_extension": ".py",
   "mimetype": "text/x-python",
   "name": "python",
   "nbconvert_exporter": "python",
   "pygments_lexer": "ipython3",
   "version": "3.6.1"
  }
 },
 "nbformat": 4,
 "nbformat_minor": 2
}
